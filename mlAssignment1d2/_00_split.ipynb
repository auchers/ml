{
 "cells": [
  {
   "cell_type": "markdown",
   "metadata": {
    "toc": true
   },
   "source": [
    "<h1>Table of Contents<span class=\"tocSkip\"></span></h1>\n",
    "<div class=\"toc\"><ul class=\"toc-item\"><li><span><a href=\"#read-in-the-full-Amazon-file-(455,000-rows)\" data-toc-modified-id=\"read-in-the-full-Amazon-file-(455,000-rows)-1\"><span class=\"toc-item-num\">1&nbsp;&nbsp;</span>read in the full Amazon file (455,000 rows)</a></span></li><li><span><a href=\"#randomly-split-the-dataset-into-training-and-test-sets\" data-toc-modified-id=\"randomly-split-the-dataset-into-training-and-test-sets-2\"><span class=\"toc-item-num\">2&nbsp;&nbsp;</span>randomly split the dataset into training and test sets</a></span></li><li><span><a href=\"#check-that-the-file-sizes-are-what-you-expected\" data-toc-modified-id=\"check-that-the-file-sizes-are-what-you-expected-3\"><span class=\"toc-item-num\">3&nbsp;&nbsp;</span>check that the file sizes are what you expected</a></span></li><li><span><a href=\"#export-as-CSV-files-so-you-have-readily-accessible-files-to-read-for-training-and-testing\" data-toc-modified-id=\"export-as-CSV-files-so-you-have-readily-accessible-files-to-read-for-training-and-testing-4\"><span class=\"toc-item-num\">4&nbsp;&nbsp;</span>export as CSV files so you have readily accessible files to read for training and testing</a></span></li></ul></div>"
   ]
  },
  {
   "cell_type": "code",
   "execution_count": 2,
   "metadata": {
    "collapsed": true
   },
   "outputs": [],
   "source": [
    "import numpy as np\n",
    "import pandas as pd"
   ]
  },
  {
   "cell_type": "markdown",
   "metadata": {},
   "source": [
    "### read in the full Amazon file (455,000 rows)"
   ]
  },
  {
   "cell_type": "code",
   "execution_count": 3,
   "metadata": {},
   "outputs": [
    {
     "name": "stdout",
     "output_type": "stream",
     "text": [
      "(455000, 13)\n"
     ]
    }
   ],
   "source": [
    "amazon = pd.read_csv('../../../data/amazon_data/Amazon.csv')\n",
    "print(amazon.shape)"
   ]
  },
  {
   "cell_type": "markdown",
   "metadata": {},
   "source": [
    "### randomly split the dataset into training and test sets"
   ]
  },
  {
   "cell_type": "code",
   "execution_count": 4,
   "metadata": {},
   "outputs": [],
   "source": [
    "# create training and test sets\n",
    "from sklearn.model_selection import train_test_split\n",
    "#randome_state left blank -- need value here\n",
    "raw_data_train, raw_data_test, y_train, y_test = train_test_split(amazon, amazon['helpful'], test_size= 0.2, shuffle = True, random_state=37)"
   ]
  },
  {
   "cell_type": "markdown",
   "metadata": {},
   "source": [
    "### check that the file sizes are what you expected"
   ]
  },
  {
   "cell_type": "code",
   "execution_count": 5,
   "metadata": {},
   "outputs": [
    {
     "name": "stdout",
     "output_type": "stream",
     "text": [
      "(364000, 13)\n",
      "(91000, 13)\n",
      "(364000,)\n",
      "(91000,)\n",
      "0.25\n",
      "0.2\n",
      "['Unnamed: 0', 'Id', 'ProductId', 'UserId', 'ProfileName', 'HelpfulnessNumerator', 'HelpfulnessDenominator', 'Score', 'Time', 'Summary', 'Text', 'helpScore', 'helpful']\n"
     ]
    }
   ],
   "source": [
    "print(raw_data_train.shape)\n",
    "print(raw_data_test.shape)\n",
    "print(y_train.shape)\n",
    "print(y_test.shape)\n",
    "\n",
    "# check proportion of test set to training set\n",
    "print(raw_data_test.shape[0]/raw_data_train.shape[0])\n",
    "#check proportion of test set to full data\n",
    "print(raw_data_test.shape[0]/amazon.shape[0])\n",
    "\n",
    "# see columns\n",
    "print(list(raw_data_test))"
   ]
  },
  {
   "cell_type": "markdown",
   "metadata": {},
   "source": [
    "### export as CSV files so you have readily accessible files to read for training and testing"
   ]
  },
  {
   "cell_type": "code",
   "execution_count": 6,
   "metadata": {
    "collapsed": true
   },
   "outputs": [],
   "source": [
    "raw_data_train.to_csv('../../../data/amazon_data/raw_data_train.csv')\n",
    "raw_data_test.to_csv('../../../data/amazon_data/raw_data_test.csv')\n",
    "y_train.to_csv('../../../data/amazon_data/y_train.csv')\n",
    "y_test.to_csv('../../../data/amazon_data/y_test.csv')"
   ]
  },
  {
   "cell_type": "code",
   "execution_count": null,
   "metadata": {
    "collapsed": true
   },
   "outputs": [],
   "source": []
  }
 ],
 "metadata": {
  "kernelspec": {
   "display_name": "Python 3",
   "language": "python",
   "name": "python3"
  },
  "language_info": {
   "codemirror_mode": {
    "name": "ipython",
    "version": 3
   },
   "file_extension": ".py",
   "mimetype": "text/x-python",
   "name": "python",
   "nbconvert_exporter": "python",
   "pygments_lexer": "ipython3",
   "version": "3.6.3"
  },
  "toc": {
   "nav_menu": {},
   "number_sections": true,
   "sideBar": true,
   "skip_h1_title": true,
   "title_cell": "Table of Contents",
   "title_sidebar": "Contents",
   "toc_cell": true,
   "toc_position": {},
   "toc_section_display": true,
   "toc_window_display": false
  }
 },
 "nbformat": 4,
 "nbformat_minor": 1
}
