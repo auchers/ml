{
 "cells": [
  {
   "cell_type": "markdown",
   "metadata": {
    "toc": true
   },
   "source": [
    "<h1>Table of Contents<span class=\"tocSkip\"></span></h1>\n",
    "<div class=\"toc\"><ul class=\"toc-item\"><li><ul class=\"toc-item\"><li><span><a href=\"#Read-raw-test-data\" data-toc-modified-id=\"Read-raw-test-data-0.1\"><span class=\"toc-item-num\">0.1&nbsp;&nbsp;</span>Read raw test data</a></span></li><li><span><a href=\"#Try-to-Unload-Pickle\" data-toc-modified-id=\"Try-to-Unload-Pickle-0.2\"><span class=\"toc-item-num\">0.2&nbsp;&nbsp;</span>Try to Unload Pickle</a></span></li><li><span><a href=\"#Feature-extraction-on-natural-language-data\" data-toc-modified-id=\"Feature-extraction-on-natural-language-data-0.3\"><span class=\"toc-item-num\">0.3&nbsp;&nbsp;</span>Feature extraction on natural language data</a></span></li><li><span><a href=\"#Create-additional-quantitative-features\" data-toc-modified-id=\"Create-additional-quantitative-features-0.4\"><span class=\"toc-item-num\">0.4&nbsp;&nbsp;</span>Create additional quantitative features</a></span></li><li><span><a href=\"#Combine-all-quantitative-features-into-a-single-sparse-matrix\" data-toc-modified-id=\"Combine-all-quantitative-features-into-a-single-sparse-matrix-0.5\"><span class=\"toc-item-num\">0.5&nbsp;&nbsp;</span>Combine all quantitative features into a single sparse matrix</a></span></li><li><span><a href=\"#Create-X,-scaled-matrix-of-features\" data-toc-modified-id=\"Create-X,-scaled-matrix-of-features-0.6\"><span class=\"toc-item-num\">0.6&nbsp;&nbsp;</span>Create <code>X</code>, scaled matrix of features</a></span></li></ul></li><li><span><a href=\"#Feature-Prep---from-module\" data-toc-modified-id=\"Feature-Prep---from-module-1\"><span class=\"toc-item-num\">1&nbsp;&nbsp;</span>Feature Prep - from module</a></span><ul class=\"toc-item\"><li><span><a href=\"#create-y,-vector-of-Labels\" data-toc-modified-id=\"create-y,-vector-of-Labels-1.1\"><span class=\"toc-item-num\">1.1&nbsp;&nbsp;</span>create <code>y</code>, vector of Labels</a></span></li><li><span><a href=\"#predict-y-with-the-fit-on-the-training-set\" data-toc-modified-id=\"predict-y-with-the-fit-on-the-training-set-1.2\"><span class=\"toc-item-num\">1.2&nbsp;&nbsp;</span>predict <code>y</code> with the fit on the training set</a></span></li><li><span><a href=\"#ROC-plot-to-compare-performance-of-various-models-and-fits\" data-toc-modified-id=\"ROC-plot-to-compare-performance-of-various-models-and-fits-1.3\"><span class=\"toc-item-num\">1.3&nbsp;&nbsp;</span>ROC plot to compare performance of various models and fits</a></span></li></ul></li><li><span><a href=\"#Checking-Results\" data-toc-modified-id=\"Checking-Results-2\"><span class=\"toc-item-num\">2&nbsp;&nbsp;</span>Checking Results</a></span></li></ul></div>"
   ]
  },
  {
   "cell_type": "markdown",
   "metadata": {},
   "source": [
    "# Test Set"
   ]
  },
  {
   "cell_type": "code",
   "execution_count": 1,
   "metadata": {
    "collapsed": true
   },
   "outputs": [],
   "source": [
    "import numpy as np\n",
    "import pandas as pd\n",
    "import matplotlib.pyplot as plt\n",
    "from sklearn.externals import joblib\n",
    "from my_measures import BinaryClassificationPerformance\n",
    "%matplotlib inline"
   ]
  },
  {
   "cell_type": "markdown",
   "metadata": {},
   "source": [
    "### Read raw test data"
   ]
  },
  {
   "cell_type": "code",
   "execution_count": 2,
   "metadata": {},
   "outputs": [
    {
     "name": "stdout",
     "output_type": "stream",
     "text": [
      "(91000, 14)\n"
     ]
    }
   ],
   "source": [
    "amazon = pd.read_csv('../../../data/amazon_data/raw_data_test.csv')\n",
    "print(amazon.shape)"
   ]
  },
  {
   "cell_type": "code",
   "execution_count": 3,
   "metadata": {
    "collapsed": true
   },
   "outputs": [
    {
     "name": "stdout",
     "output_type": "stream",
     "text": [
      "   Unnamed: 0  Unnamed: 0.1      Id   ProductId          UserId  \\\n",
      "0      147718        546145  546146  B001AZ2UYI   AR4KQLKL8VJO4   \n",
      "1      223621        478031  478032  B000WZZVI4  A2TIETTFZ3YYAU   \n",
      "2      447075        348609  348610  B000E46GFA  A1GGO0VNCBFA0D   \n",
      "3        9239        319904  319905  B0018QIPS4   A61OLW5P65ZK5   \n",
      "4      424940        494951  494952  B00271OPVU  A37DKONQP3RMJO   \n",
      "\n",
      "                       ProfileName  HelpfulnessNumerator  \\\n",
      "0                       W. Maxwell                    14   \n",
      "1  Donna Toy \"Foot comfort expert\"                    10   \n",
      "2                Karen M. Szymarek                     2   \n",
      "3                         Khaleesi                     0   \n",
      "4                    mytripletboys                     0   \n",
      "\n",
      "   HelpfulnessDenominator  Score        Time  \\\n",
      "0                      15      5  1261785600   \n",
      "1                      10      5  1201478400   \n",
      "2                       2      5  1279929600   \n",
      "3                       1      1  1338336000   \n",
      "4                       0      5  1298505600   \n",
      "\n",
      "                                Summary  \\\n",
      "0                          Heavenly Oil   \n",
      "1  Great product, but don't buy it here   \n",
      "2                     Tasty and Healthy   \n",
      "3  Does NOT taste like durian at all!!!   \n",
      "4                      Love this syrup!   \n",
      "\n",
      "                                                Text  helpScore helpful  \n",
      "0  A chance introduction to Savini Tartufi White ...   0.933333    True  \n",
      "1  I have no complaints with the product. But don...   1.000000    True  \n",
      "2  My son is on a Gluten Free diet and finding go...   1.000000   False  \n",
      "3  I was so excited for durian chips because I lo...   0.000000   False  \n",
      "4  I love everything about this syrup. I think I ...        NaN   False  \n",
      "0.0737142857143\n"
     ]
    }
   ],
   "source": [
    "print(amazon.head())\n",
    "print(amazon['helpful'].mean())"
   ]
  },
  {
   "cell_type": "markdown",
   "metadata": {},
   "source": [
    "### Try to Unload Pickle"
   ]
  },
  {
   "cell_type": "code",
   "execution_count": 3,
   "metadata": {},
   "outputs": [],
   "source": [
    "from pipelineHelpers import CalculateQuantativeFeatures, SelectCol"
   ]
  },
  {
   "cell_type": "code",
   "execution_count": 4,
   "metadata": {},
   "outputs": [],
   "source": [
    "pipeline = joblib.load('pipeline.pkl')"
   ]
  },
  {
   "cell_type": "code",
   "execution_count": 5,
   "metadata": {},
   "outputs": [
    {
     "name": "stderr",
     "output_type": "stream",
     "text": [
      "/anaconda3/lib/python3.6/site-packages/sklearn/feature_extraction/hashing.py:94: DeprecationWarning: the option non_negative=True has been deprecated in 0.19 and will be removed in version 0.21.\n",
      "  \" in version 0.21.\", DeprecationWarning)\n",
      "/anaconda3/lib/python3.6/site-packages/sklearn/feature_extraction/hashing.py:94: DeprecationWarning: the option non_negative=True has been deprecated in 0.19 and will be removed in version 0.21.\n",
      "  \" in version 0.21.\", DeprecationWarning)\n"
     ]
    },
    {
     "name": "stdout",
     "output_type": "stream",
     "text": [
      "{'Pos': 6708, 'Neg': 84292, 'TP': 2702, 'TN': 72060, 'FP': 12232, 'FN': 4006, 'Accuracy': 0.82156043956043956, 'Precision': 0.18092942279362528, 'Recall': 0.4028026237328563, 'desc': 'nbs'}\n"
     ]
    }
   ],
   "source": [
    "# MODEL: Naive Bayes\n",
    "\n",
    "nbs_performance = BinaryClassificationPerformance(pipeline.predict(amazon), amazon.helpful, 'nbs')\n",
    "nbs_performance.compute_measures()\n",
    "print(nbs_performance.performance_measures)"
   ]
  },
  {
   "cell_type": "markdown",
   "metadata": {},
   "source": [
    "### Feature extraction on natural language data"
   ]
  },
  {
   "cell_type": "code",
   "execution_count": null,
   "metadata": {
    "collapsed": true
   },
   "outputs": [],
   "source": [
    "# # http://scikit-learn.org/stable/modules/generated/sklearn.feature_extraction.text.CountVectorizer.html\n",
    "# from sklearn.feature_extraction.text import CountVectorizer\n",
    "# vectorizer = CountVectorizer()\n",
    "# corpus = amazon.Text.as_matrix()\n",
    "# X_bag_of_words = vectorizer.fit_transform(corpus)\n",
    "# print(X_bag_of_words.toarray())"
   ]
  },
  {
   "cell_type": "code",
   "execution_count": 4,
   "metadata": {},
   "outputs": [
    {
     "name": "stderr",
     "output_type": "stream",
     "text": [
      "/Library/Frameworks/Python.framework/Versions/3.5/lib/python3.5/site-packages/sklearn/feature_extraction/hashing.py:94: DeprecationWarning: the option non_negative=True has been deprecated in 0.19 and will be removed in version 0.21.\n",
      "  \" in version 0.21.\", DeprecationWarning)\n"
     ]
    },
    {
     "name": "stdout",
     "output_type": "stream",
     "text": [
      "(91000, 131072)\n"
     ]
    }
   ],
   "source": [
    "# vectorize Bag of Words from review text; as sparse matrix\n",
    "# from sklearn.feature_extraction.text import HashingVectorizer\n",
    "# hv = HashingVectorizer(n_features=2 ** 17, non_negative=True)\n",
    "hv = joblib.load('hv.pkl')\n",
    "X_hv = hv.transform(amazon.Text) #!!! not fitting and transforming -- only transforming\n",
    "print(X_hv.shape)"
   ]
  },
  {
   "cell_type": "code",
   "execution_count": 5,
   "metadata": {
    "collapsed": true
   },
   "outputs": [],
   "source": [
    "# http://scikit-learn.org/stable/modules/generated/sklearn.feature_extraction.text.TfidfTransformer.html\n",
    "# from sklearn.feature_extraction.text import TfidfTransformer\n",
    "# transformer = TfidfTransformer()\n",
    "transformer = joblib.load('transformer.pkl')\n",
    "X_tfidf = transformer.transform(X_hv)"
   ]
  },
  {
   "cell_type": "code",
   "execution_count": 6,
   "metadata": {},
   "outputs": [
    {
     "name": "stdout",
     "output_type": "stream",
     "text": [
      "<class 'scipy.sparse.csr.csr_matrix'>\n"
     ]
    }
   ],
   "source": [
    "print(type(X_tfidf))"
   ]
  },
  {
   "cell_type": "markdown",
   "metadata": {
    "collapsed": true
   },
   "source": [
    "### Create additional quantitative features"
   ]
  },
  {
   "cell_type": "code",
   "execution_count": 7,
   "metadata": {},
   "outputs": [
    {
     "name": "stdout",
     "output_type": "stream",
     "text": [
      "   Score  reviewLen\n",
      "0      5        924\n",
      "1      5        110\n",
      "2      5        892\n",
      "3      1        395\n",
      "4      5        125\n",
      "5      4        833\n",
      "6      5        891\n",
      "7      5        110\n",
      "8      4        720\n",
      "9      3        190\n",
      "<class 'pandas.core.frame.DataFrame'>\n"
     ]
    }
   ],
   "source": [
    "# features from Amazon.csv to add to feature set\n",
    "amazon['reviewLen'] = amazon['Text'].str.len()\n",
    "\n",
    "X_quant_features = amazon[[\"Score\", \"reviewLen\"]]\n",
    "print(X_quant_features.head(10))\n",
    "print(type(X_quant_features))"
   ]
  },
  {
   "cell_type": "markdown",
   "metadata": {},
   "source": [
    "### Combine all quantitative features into a single sparse matrix"
   ]
  },
  {
   "cell_type": "code",
   "execution_count": 8,
   "metadata": {},
   "outputs": [
    {
     "name": "stdout",
     "output_type": "stream",
     "text": [
      "(91000, 131074)\n"
     ]
    }
   ],
   "source": [
    "from scipy.sparse import csr_matrix, hstack\n",
    "X_quant_features_csr = csr_matrix(X_quant_features)\n",
    "X_combined = hstack([X_tfidf, X_quant_features_csr])\n",
    "X_matrix = csr_matrix(X_combined) # convert to sparse matrix\n",
    "print(X_matrix.shape)"
   ]
  },
  {
   "cell_type": "markdown",
   "metadata": {},
   "source": [
    "### Create `X`, scaled matrix of features"
   ]
  },
  {
   "cell_type": "code",
   "execution_count": 9,
   "metadata": {},
   "outputs": [
    {
     "name": "stdout",
     "output_type": "stream",
     "text": [
      "(91000, 131074)\n"
     ]
    }
   ],
   "source": [
    "# feature scaling\n",
    "# from sklearn.preprocessing import StandardScaler\n",
    "# sc = StandardScaler(with_mean=False)\n",
    "sc = joblib.load('sc.pkl')\n",
    "X = sc.transform(X_matrix)\n",
    "print(X.shape)\n",
    "# check to make sure has same num columns as training"
   ]
  },
  {
   "cell_type": "markdown",
   "metadata": {},
   "source": [
    "## Feature Prep - from module"
   ]
  },
  {
   "cell_type": "code",
   "execution_count": 3,
   "metadata": {
    "collapsed": true
   },
   "outputs": [],
   "source": [
    "from featuresPreparation import AmazonReviewFeaturePrep\n",
    "featurePreparer = AmazonReviewFeaturePrep(amazon)"
   ]
  },
  {
   "cell_type": "code",
   "execution_count": 4,
   "metadata": {},
   "outputs": [
    {
     "data": {
      "text/plain": [
       "(91000, 14)"
      ]
     },
     "execution_count": 4,
     "metadata": {},
     "output_type": "execute_result"
    }
   ],
   "source": [
    "featurePreparer.rawData.shape"
   ]
  },
  {
   "cell_type": "code",
   "execution_count": 5,
   "metadata": {
    "scrolled": true
   },
   "outputs": [
    {
     "name": "stdout",
     "output_type": "stream",
     "text": [
      "starting to prepare features\n"
     ]
    },
    {
     "name": "stderr",
     "output_type": "stream",
     "text": [
      "/anaconda3/lib/python3.6/site-packages/sklearn/feature_extraction/hashing.py:94: DeprecationWarning: the option non_negative=True has been deprecated in 0.19 and will be removed in version 0.21.\n",
      "  \" in version 0.21.\", DeprecationWarning)\n"
     ]
    },
    {
     "name": "stdout",
     "output_type": "stream",
     "text": [
      "1. finished applying hash vectorizor\n",
      "2. finished applying tfidf\n"
     ]
    },
    {
     "name": "stderr",
     "output_type": "stream",
     "text": [
      "/anaconda3/lib/python3.6/site-packages/sklearn/feature_extraction/hashing.py:94: DeprecationWarning: the option non_negative=True has been deprecated in 0.19 and will be removed in version 0.21.\n",
      "  \" in version 0.21.\", DeprecationWarning)\n"
     ]
    },
    {
     "name": "stdout",
     "output_type": "stream",
     "text": [
      "3. finished applying summary text transformers\n",
      "8. starting quant features\n",
      "9. starting product aggregates\n",
      "10. finished product aggregates\n",
      "11. finished quant features\n",
      "scale applied\n",
      "finished preparing test features\n"
     ]
    }
   ],
   "source": [
    "featurePreparer.prepare_all_features_test()"
   ]
  },
  {
   "cell_type": "code",
   "execution_count": 6,
   "metadata": {},
   "outputs": [
    {
     "data": {
      "text/plain": [
       "(91000, 262149)"
      ]
     },
     "execution_count": 6,
     "metadata": {},
     "output_type": "execute_result"
    }
   ],
   "source": [
    "X = featurePreparer.X\n",
    "X.shape"
   ]
  },
  {
   "cell_type": "markdown",
   "metadata": {},
   "source": [
    "### create `y`, vector of Labels"
   ]
  },
  {
   "cell_type": "code",
   "execution_count": 10,
   "metadata": {},
   "outputs": [
    {
     "name": "stdout",
     "output_type": "stream",
     "text": [
      "<class 'numpy.ndarray'>\n"
     ]
    }
   ],
   "source": [
    "y = amazon['helpful'].values\n",
    "print(type(y))"
   ]
  },
  {
   "cell_type": "markdown",
   "metadata": {},
   "source": [
    "### predict `y` with the fit on the training set"
   ]
  },
  {
   "cell_type": "code",
   "execution_count": 12,
   "metadata": {},
   "outputs": [
    {
     "name": "stdout",
     "output_type": "stream",
     "text": [
      "{'Pos': 6708, 'Neg': 84292, 'TP': 1499, 'TN': 77460, 'FP': 6832, 'FN': 5209, 'Accuracy': 0.8676813186813187, 'Precision': 0.17993038050654184, 'Recall': 0.22346451997614789, 'desc': 'svm'}\n"
     ]
    }
   ],
   "source": [
    "# MODEL: SVM, linear\n",
    "# from sklearn import linear_model\n",
    "# svm = linear_model.SGDClassifier()\n",
    "# svm.fit(X, y)\n",
    "# joblib.dump(svm, 'svm.pkl') # pickle\n",
    "svm = joblib.load('svm.pkl') # pickle !!! important to use fit from training\n",
    "\n",
    "svm_performance = BinaryClassificationPerformance(svm.predict(X), y, 'svm')\n",
    "svm_performance.compute_measures()\n",
    "print(svm_performance.performance_measures)"
   ]
  },
  {
   "cell_type": "markdown",
   "metadata": {},
   "source": [
    "**Round2 Results** (with summary text and time column): {'Pos': 6708, 'Neg': 84292, 'TP': 2018, 'TN': 69940, 'FP': 14352, 'FN': 4690, 'Accuracy': 0.79074725274725277, 'Precision': 0.12327428222357972, 'Recall': 0.30083482409063805, 'desc': 'svm'}\n",
    "Accuracy down, Precision up, Recall up\n",
    "\n",
    "**Round1 Results**: {'Pos': 6708, 'FN': 4664, 'desc': 'svm', 'Recall': 0.30471079308288612, 'Precision': 0.28057652711050102, 'TN': 79051, 'Neg': 84292, 'Accuracy': 0.89115384615384619, 'FP': 5241, 'TP': 2044}\n",
    "\n",
    "**Initial results**: {'FN': 4894, 'TN': 78482, 'desc': 'svm', 'Neg': 84292, 'Accuracy': 0.88237362637362637, 'FP': 5810, 'Pos': 6708, 'Precision': 0.23793284365162645, 'TP': 1814, 'Recall': 0.27042337507453784}\n"
   ]
  },
  {
   "cell_type": "code",
   "execution_count": 14,
   "metadata": {},
   "outputs": [
    {
     "name": "stdout",
     "output_type": "stream",
     "text": [
      "{'Pos': 6708, 'Neg': 84292, 'TP': 1350, 'TN': 77589, 'FP': 6703, 'FN': 5358, 'Accuracy': 0.86746153846153851, 'Precision': 0.16763938904755993, 'Recall': 0.20125223613595708, 'desc': 'lgs'}\n"
     ]
    }
   ],
   "source": [
    "# MODEL: logistic regression\n",
    "# from sklearn import linear_model\n",
    "# lgs = linear_model.SGDClassifier(loss='log', n_iter=50, alpha=0.00001)\n",
    "# lgs.fit(X, y)\n",
    "# joblib.dump(lgs, 'lgs.pkl') # pickle\n",
    "lgs = joblib.load('lgs.pkl')\n",
    "\n",
    "lgs_performance = BinaryClassificationPerformance(lgs.predict(X), y, 'lgs')\n",
    "lgs_performance.compute_measures()\n",
    "print(lgs_performance.performance_measures)"
   ]
  },
  {
   "cell_type": "markdown",
   "metadata": {},
   "source": [
    "**Round2 Results** (with summary text and time column):{'Pos': 6708, 'Neg': 84292, 'TP': 1779, 'TN': 71641, 'FP': 12651, 'FN': 4929, 'Accuracy': 0.80681318681318681, 'Precision': 0.12328482328482329, 'Recall': 0.26520572450805008, 'desc': 'lgs'}\n",
    "\n",
    "Missed Round1 Results \n",
    "\n",
    "**Initial Results**: {'FN': 4823, 'TN': 78496, 'desc': 'lgs', 'Neg': 84292, 'Accuracy': 0.88330769230769235, 'FP': 5796, 'Pos': 6708, 'Precision': 0.2454107538080979, 'TP': 1885, 'Recall': 0.2810077519379845}"
   ]
  },
  {
   "cell_type": "code",
   "execution_count": 8,
   "metadata": {},
   "outputs": [
    {
     "name": "stdout",
     "output_type": "stream",
     "text": [
      "{'Pos': 6708, 'Neg': 84292, 'TP': 990, 'TN': 78315, 'FP': 5977, 'FN': 5718, 'Accuracy': 0.87148351648351652, 'Precision': 0.14209846418831634, 'Recall': 0.14758497316636851, 'desc': 'nbs'}\n"
     ]
    }
   ],
   "source": [
    "# MODEL: Naive Bayes\n",
    "# from sklearn.naive_bayes import MultinomialNB\n",
    "# nbs = MultinomialNB()\n",
    "# nbs.fit(X, y)\n",
    "# joblib.dump(nbs, 'nbs.pkl') # pickle\n",
    "nbs = joblib.load('nbs.pkl')\n",
    "\n",
    "nbs_performance = BinaryClassificationPerformance(nbs.predict(X), y, 'nbs')\n",
    "nbs_performance.compute_measures()\n",
    "print(nbs_performance.performance_measures)"
   ]
  },
  {
   "cell_type": "markdown",
   "metadata": {},
   "source": [
    "**Round2 Results** (with summary text and time column):{'Pos': 6708, 'Neg': 84292, 'TP': 989, 'TN': 78368, 'FP': 5924, 'FN': 5719, 'Accuracy': 0.87205494505494507, 'Precision': 0.14306379285404311, 'Recall': 0.14743589743589744, 'desc': 'nbs'}\n",
    "Accuracy up, Precision down, Recall way down\n",
    "\n",
    "**Round1 Results**: {'Pos': 6708, 'FN': 4088, 'desc': 'nbs', 'Recall': 0.39057841383422781, 'Precision': 0.17864448384017456, 'TN': 72246, 'Neg': 84292, 'Accuracy': 0.82270329670329667, 'FP': 12046, 'TP': 2620}\n",
    "\n",
    "**Initial Results**: {'FN': 4083, 'TN': 71892, 'desc': 'nbs', 'Neg': 84292, 'Accuracy': 0.8188681318681319, 'FP': 12400, 'Pos': 6708, 'Precision': 0.17470881863560733, 'TP': 2625, 'Recall': 0.39132379248658317}"
   ]
  },
  {
   "cell_type": "code",
   "execution_count": 14,
   "metadata": {},
   "outputs": [
    {
     "name": "stdout",
     "output_type": "stream",
     "text": [
      "{'Pos': 6708, 'FN': 5757, 'desc': 'rdg', 'Recall': 0.14177101967799643, 'Precision': 0.43404837973528071, 'TN': 83052, 'Neg': 84292, 'Accuracy': 0.92310989010989009, 'FP': 1240, 'TP': 951}\n"
     ]
    }
   ],
   "source": [
    "# MODEL: Ridge Regression Classifier\n",
    "# from sklearn import linear_model\n",
    "# rdg = linear_model.RidgeClassifier()\n",
    "# rdg.fit(X, y)\n",
    "# joblib.dump(rdg, 'rdg.pkl') # pickle\n",
    "rdg = joblib.load('rdg.pkl')\n",
    "\n",
    "rdg_performance = BinaryClassificationPerformance(rdg.predict(X), y, 'rdg')\n",
    "rdg_performance.compute_measures()\n",
    "print(rdg_performance.performance_measures)"
   ]
  },
  {
   "cell_type": "markdown",
   "metadata": {},
   "source": [
    "Previous Results: {'FN': 5744, 'TN': 82883, 'desc': 'rdg', 'Neg': 84292, 'Accuracy': 0.92139560439560442, 'FP': 1409, 'Pos': 6708, 'Precision': 0.4062368310155921, 'TP': 964, 'Recall': 0.14370900417412044}\n"
   ]
  },
  {
   "cell_type": "code",
   "execution_count": 15,
   "metadata": {
    "scrolled": true
   },
   "outputs": [
    {
     "name": "stdout",
     "output_type": "stream",
     "text": [
      "{'Pos': 6708, 'FN': 4665, 'desc': 'prc', 'Recall': 0.30456171735241505, 'Precision': 0.28629484304932734, 'TN': 79199, 'Neg': 84292, 'Accuracy': 0.89276923076923076, 'FP': 5093, 'TP': 2043}\n"
     ]
    }
   ],
   "source": [
    "# MODEL: Perceptron\n",
    "# from sklearn import linear_model\n",
    "# prc = linear_model.SGDClassifier(loss='perceptron')\n",
    "# prc.fit(X, y)\n",
    "# joblib.dump(prc, 'prc.pkl') # pickle\n",
    "prc = joblib.load('prc.pkl')\n",
    "\n",
    "prc_performance = BinaryClassificationPerformance(prc.predict(X), y, 'prc')\n",
    "prc_performance.compute_measures()\n",
    "print(prc_performance.performance_measures)"
   ]
  },
  {
   "cell_type": "markdown",
   "metadata": {},
   "source": [
    "Previous Results: {'FN': 5093, 'TN': 79157, 'desc': 'prc', 'Neg': 84292, 'Accuracy': 0.88760439560439564, 'FP': 5135, 'Pos': 6708, 'Precision': 0.23925925925925925, 'TP': 1615, 'Recall': 0.2407573047107931}"
   ]
  },
  {
   "cell_type": "markdown",
   "metadata": {},
   "source": [
    "### ROC plot to compare performance of various models and fits"
   ]
  },
  {
   "cell_type": "code",
   "execution_count": 15,
   "metadata": {},
   "outputs": [
    {
     "data": {
      "image/png": "[encoded data removed]",
      "text/plain": [
       "<matplotlib.figure.Figure at 0x110b3bc18>"
      ]
     },
     "metadata": {},
     "output_type": "display_data"
    }
   ],
   "source": [
    "# fits = [svm_performance, lgs_performance, nbs_performance, rdg_performance, prc_performance]\n",
    "fits = [svm_performance, lgs_performance, nbs_performance]\n",
    "\n",
    "for fit in fits:\n",
    "    plt.plot(fit.performance_measures['FP'] / fit.performance_measures['Neg'], \n",
    "             fit.performance_measures['TP'] / fit.performance_measures['Pos'], 'bo')\n",
    "    plt.text(fit.performance_measures['FP'] / fit.performance_measures['Neg'], \n",
    "             fit.performance_measures['TP'] / fit.performance_measures['Pos'], fit.desc)\n",
    "plt.axis([0, 1, 0, 1])\n",
    "plt.title('ROC plot: test set')\n",
    "plt.xlabel('False positive rate')\n",
    "plt.ylabel('True positive rate')\n",
    "plt.show()"
   ]
  },
  {
   "cell_type": "markdown",
   "metadata": {
    "collapsed": true
   },
   "source": [
    "## Checking Results"
   ]
  },
  {
   "cell_type": "code",
   "execution_count": 16,
   "metadata": {
    "collapsed": true
   },
   "outputs": [],
   "source": [
    "amazon['svm_predictions'] = svm.predict(X)\n",
    "amazon['nbs_predictions'] = nbs.predict(X)"
   ]
  },
  {
   "cell_type": "code",
   "execution_count": 17,
   "metadata": {
    "collapsed": true
   },
   "outputs": [],
   "source": [
    "# take all rows where at least one tagged as true\n",
    "someoneSaysTrue = amazon[amazon.helpful | amazon.svm_predictions | amazon.nbs_predictions]"
   ]
  },
  {
   "cell_type": "code",
   "execution_count": 22,
   "metadata": {},
   "outputs": [
    {
     "data": {
      "text/html": [
       "<div>\n",
       "<style>\n",
       "    .dataframe thead tr:only-child th {\n",
       "        text-align: right;\n",
       "    }\n",
       "\n",
       "    .dataframe thead th {\n",
       "        text-align: left;\n",
       "    }\n",
       "\n",
       "    .dataframe tbody tr th {\n",
       "        vertical-align: top;\n",
       "    }\n",
       "</style>\n",
       "<table border=\"1\" class=\"dataframe\">\n",
       "  <thead>\n",
       "    <tr style=\"text-align: right;\">\n",
       "      <th></th>\n",
       "      <th>helpful</th>\n",
       "      <th>False</th>\n",
       "      <th>True</th>\n",
       "    </tr>\n",
       "    <tr>\n",
       "      <th>nbs_predictions</th>\n",
       "      <th>svm_predictions</th>\n",
       "      <th></th>\n",
       "      <th></th>\n",
       "    </tr>\n",
       "  </thead>\n",
       "  <tbody>\n",
       "    <tr>\n",
       "      <th rowspan=\"2\" valign=\"top\">False</th>\n",
       "      <th>False</th>\n",
       "      <td>74142</td>\n",
       "      <td>4894</td>\n",
       "    </tr>\n",
       "    <tr>\n",
       "      <th>True</th>\n",
       "      <td>4173</td>\n",
       "      <td>824</td>\n",
       "    </tr>\n",
       "    <tr>\n",
       "      <th rowspan=\"2\" valign=\"top\">True</th>\n",
       "      <th>False</th>\n",
       "      <td>3318</td>\n",
       "      <td>315</td>\n",
       "    </tr>\n",
       "    <tr>\n",
       "      <th>True</th>\n",
       "      <td>2659</td>\n",
       "      <td>675</td>\n",
       "    </tr>\n",
       "  </tbody>\n",
       "</table>\n",
       "</div>"
      ],
      "text/plain": [
       "helpful                          False  True \n",
       "nbs_predictions svm_predictions              \n",
       "False           False            74142   4894\n",
       "                True              4173    824\n",
       "True            False             3318    315\n",
       "                True              2659    675"
      ]
     },
     "execution_count": 22,
     "metadata": {},
     "output_type": "execute_result"
    }
   ],
   "source": [
    "helpful_matrix = amazon.groupby(by=['helpful', 'nbs_predictions', 'svm_predictions'], as_index= False ).agg({'Id': \"count\"})\n",
    "helpful_matrix = pd.pivot_table(helpful_matrix, values='Id', \n",
    "                       index=['nbs_predictions', 'svm_predictions'],\n",
    "                       columns=['helpful'], \n",
    "                       aggfunc= np.sum,\n",
    "                        margins = False)\n",
    "helpful_matrix"
   ]
  },
  {
   "cell_type": "code",
   "execution_count": 25,
   "metadata": {},
   "outputs": [
    {
     "data": {
      "text/html": [
       "<div>\n",
       "<style>\n",
       "    .dataframe thead tr:only-child th {\n",
       "        text-align: right;\n",
       "    }\n",
       "\n",
       "    .dataframe thead th {\n",
       "        text-align: left;\n",
       "    }\n",
       "\n",
       "    .dataframe tbody tr th {\n",
       "        vertical-align: top;\n",
       "    }\n",
       "</style>\n",
       "<table border=\"1\" class=\"dataframe\">\n",
       "  <thead>\n",
       "    <tr style=\"text-align: right;\">\n",
       "      <th></th>\n",
       "      <th>Unnamed: 0</th>\n",
       "      <th>Unnamed: 0.1</th>\n",
       "      <th>Id</th>\n",
       "      <th>ProductId</th>\n",
       "      <th>UserId</th>\n",
       "      <th>ProfileName</th>\n",
       "      <th>HelpfulnessNumerator</th>\n",
       "      <th>HelpfulnessDenominator</th>\n",
       "      <th>Score</th>\n",
       "      <th>Time</th>\n",
       "      <th>Summary</th>\n",
       "      <th>Text</th>\n",
       "      <th>helpScore</th>\n",
       "      <th>helpful</th>\n",
       "      <th>svm_predictions</th>\n",
       "      <th>nbs_predictions</th>\n",
       "    </tr>\n",
       "  </thead>\n",
       "  <tbody>\n",
       "    <tr>\n",
       "      <th>0</th>\n",
       "      <td>147718</td>\n",
       "      <td>546145</td>\n",
       "      <td>546146</td>\n",
       "      <td>B001AZ2UYI</td>\n",
       "      <td>AR4KQLKL8VJO4</td>\n",
       "      <td>W. Maxwell</td>\n",
       "      <td>14</td>\n",
       "      <td>15</td>\n",
       "      <td>5</td>\n",
       "      <td>1261785600</td>\n",
       "      <td>Heavenly Oil</td>\n",
       "      <td>A chance introduction to Savini Tartufi White Truffle oil has become one our delightful pasta experiences. A light dribble of oil, with a sliver of goat cheese, and our pasta is complete.&lt;br /&gt;Heavenly!&lt;br /&gt;&lt;br /&gt;This Savini oil has the aroma and the finish of a great flavored oil, with the sophisticated delicacy to warrant the price.&lt;br /&gt;&lt;br /&gt;Other domestic oils finish so harshly as to be distasteful and disagreeable. Having experienced this oil, we know what good food may be experienced,&lt;br /&gt;&lt;br /&gt;We discovered this oil upon the learning our previous oil was no longer being imported. It too was wonderful, but our need to have a replacement, a superior truffle oil, sent us searching, and we found this Italian export through Amazon.com.&lt;br /&gt;&lt;br /&gt;For those enjoying truffles, I heartily recommend this oil for eggs, pasta, salads, where ever a premium oil would add a delicate note to the flavors of the dish.</td>\n",
       "      <td>0.933333</td>\n",
       "      <td>True</td>\n",
       "      <td>False</td>\n",
       "      <td>False</td>\n",
       "    </tr>\n",
       "    <tr>\n",
       "      <th>1</th>\n",
       "      <td>223621</td>\n",
       "      <td>478031</td>\n",
       "      <td>478032</td>\n",
       "      <td>B000WZZVI4</td>\n",
       "      <td>A2TIETTFZ3YYAU</td>\n",
       "      <td>Donna Toy \"Foot comfort expert\"</td>\n",
       "      <td>10</td>\n",
       "      <td>10</td>\n",
       "      <td>5</td>\n",
       "      <td>1201478400</td>\n",
       "      <td>Great product, but don't buy it here</td>\n",
       "      <td>I have no complaints with the product. But don't buy it here. The shipping was double the cost of the product.</td>\n",
       "      <td>1.000000</td>\n",
       "      <td>True</td>\n",
       "      <td>False</td>\n",
       "      <td>False</td>\n",
       "    </tr>\n",
       "    <tr>\n",
       "      <th>16</th>\n",
       "      <td>15184</td>\n",
       "      <td>448638</td>\n",
       "      <td>448639</td>\n",
       "      <td>B004ZWRA6G</td>\n",
       "      <td>A11K70GWSB7A5Z</td>\n",
       "      <td>Nicole Del Sesto</td>\n",
       "      <td>14</td>\n",
       "      <td>14</td>\n",
       "      <td>4</td>\n",
       "      <td>1308700800</td>\n",
       "      <td>Yep.  It's gum all right.</td>\n",
       "      <td>I am a Trident Original gal.  Have been since my youth.  Oh sure, I strayed into Extra territory, and who can forget the \"Bubble Yum\" years?  (Red Dye Number 2 anyone?  I know, you are too young.  Whatever.)&lt;br /&gt;&lt;br /&gt;I always returned to my Trident Original. It tastes good, the flavor lasts, it's the right size.  But this is not Trident Original.  This is fancy pants Trident Vitality \"Awaken.\"&lt;br /&gt;&lt;br /&gt;Trident lets you know it's fancy by excessively packaging it.  It's a lot of paper and plastic for 9 pieces of gum, so I dropped it a star for that.&lt;br /&gt;&lt;br /&gt;The gum is nicely flavored.  I do like the texture aspect when biting into a crunchy outer coating, and getting into the soft center.  The flavor lasts a long, long time.  (I'm pretty sure that's another gum's motto - Hubba Bubba as it turns out.)&lt;br /&gt;&lt;br /&gt;I chewed for 45 minutes.  At first it's a pretty soft chew, but the gum firms up as time goes on.  By the time I was ready to spit it out, the flavor was still there but my jaw was sore.  I'm sure there's a joke in there somewhere.&lt;br /&gt;&lt;br /&gt;It's a nice gum, but nothing I would throw over my Trident Original for, and the packaging would give me pause anyway.  Though, I will say that one benefit of the packaging means that it is impossible for the gum to fall out of the pack and get purse debris stuck to it, so that's a nice feature, but heck ... what's a little sand and tobacco stuck to your gum?  It gives it character.</td>\n",
       "      <td>1.000000</td>\n",
       "      <td>True</td>\n",
       "      <td>False</td>\n",
       "      <td>False</td>\n",
       "    </tr>\n",
       "    <tr>\n",
       "      <th>32</th>\n",
       "      <td>280927</td>\n",
       "      <td>115673</td>\n",
       "      <td>115674</td>\n",
       "      <td>B000E23VXW</td>\n",
       "      <td>A2HRZ6AEVI3O23</td>\n",
       "      <td>Jaime Lujan \"Jimmy Fiasco\"</td>\n",
       "      <td>30</td>\n",
       "      <td>30</td>\n",
       "      <td>5</td>\n",
       "      <td>1268524800</td>\n",
       "      <td>Better Than Any Other Proteing Supplement</td>\n",
       "      <td>I recently switched to protein supplements in an attempt to build lean muscle.  Whey protein worked well but left me feeling bloated.  I stumbled across this product while looking for an alternative, and it is fantastic! No bloating, no bog down, leaves me feeling fantastic.  The taste leaves something to be desired, but what can you expect?  It's raw, organic, and has no additives whatsoever, so protein is all you get.  Mix it with a bit of almond milk, almond butter, and a banana, and it's the best thing ever!</td>\n",
       "      <td>1.000000</td>\n",
       "      <td>True</td>\n",
       "      <td>False</td>\n",
       "      <td>False</td>\n",
       "    </tr>\n",
       "    <tr>\n",
       "      <th>38</th>\n",
       "      <td>375116</td>\n",
       "      <td>117691</td>\n",
       "      <td>117692</td>\n",
       "      <td>B000HPBR8W</td>\n",
       "      <td>A12N6FQ84I2GZX</td>\n",
       "      <td>Stitcher</td>\n",
       "      <td>7</td>\n",
       "      <td>7</td>\n",
       "      <td>5</td>\n",
       "      <td>1255219200</td>\n",
       "      <td>A favorite</td>\n",
       "      <td>This is my 5-yr-old daughter's favorite gluten free cracker.  It has cheese powder on the outside of the cracker.  She misses goldfish crackers and this is the only cheese GF cracker we have found, but they are so good the whole family eats them.</td>\n",
       "      <td>1.000000</td>\n",
       "      <td>True</td>\n",
       "      <td>False</td>\n",
       "      <td>False</td>\n",
       "    </tr>\n",
       "    <tr>\n",
       "      <th>48</th>\n",
       "      <td>357426</td>\n",
       "      <td>466334</td>\n",
       "      <td>466335</td>\n",
       "      <td>B0010VMEFM</td>\n",
       "      <td>A2MNB77YGJ3CN0</td>\n",
       "      <td>L. Mountford</td>\n",
       "      <td>5</td>\n",
       "      <td>5</td>\n",
       "      <td>5</td>\n",
       "      <td>1211932800</td>\n",
       "      <td>A little bit of chocolate heaven ...</td>\n",
       "      <td>Wow!  As an unrepentant chocoholic, I'm always looking for great yummy chocolate treats.  Unfortunately, there IS a downside: too much of a good thing can lead to less than desirable results, especially on the scale.&lt;br /&gt;&lt;br /&gt;Soooo ... I try to moderate my chocolate consumption, exercising portion control, etc.&lt;br /&gt;&lt;br /&gt;I've been a big fan of Warm Delights since they were introduced - they're VERY good and easy to prepare -- but they're rather high in calories (and Weight Watchers points).&lt;br /&gt;&lt;br /&gt;These new Minis are the perfect solution:  150 calories (or 3 Weight Watchers points).  I fix one of these, and top it with a small scoop of low-fat frozen yogurt -- heaven!  They're just the right size to give me my chocolate \"fix.\"&lt;br /&gt;&lt;br /&gt;The price here is excellent, too.</td>\n",
       "      <td>1.000000</td>\n",
       "      <td>True</td>\n",
       "      <td>False</td>\n",
       "      <td>False</td>\n",
       "    </tr>\n",
       "    <tr>\n",
       "      <th>82</th>\n",
       "      <td>380940</td>\n",
       "      <td>212081</td>\n",
       "      <td>212082</td>\n",
       "      <td>B000CNB4LE</td>\n",
       "      <td>AFZI3G887G93K</td>\n",
       "      <td>Hugger of Trees \"Ricardo\"</td>\n",
       "      <td>5</td>\n",
       "      <td>5</td>\n",
       "      <td>5</td>\n",
       "      <td>1318204800</td>\n",
       "      <td>tasty and clean</td>\n",
       "      <td>I started hearing about coconut water several years ago, but it generally struck me as dirty dish water when I would try to drink it. Then Zico came along. I've been a Zico convert now for about four months, and I can literally feel the difference this product makes in my body chemistry. There are indeed other coconut water products out there that are similar, but Zico hits the sweet spot with price, size, and quality of product.</td>\n",
       "      <td>1.000000</td>\n",
       "      <td>True</td>\n",
       "      <td>False</td>\n",
       "      <td>False</td>\n",
       "    </tr>\n",
       "    <tr>\n",
       "      <th>100</th>\n",
       "      <td>379519</td>\n",
       "      <td>238974</td>\n",
       "      <td>238975</td>\n",
       "      <td>B003PFWPG4</td>\n",
       "      <td>A2XBTL8WQHRVP4</td>\n",
       "      <td>Melanie Adamski</td>\n",
       "      <td>7</td>\n",
       "      <td>7</td>\n",
       "      <td>5</td>\n",
       "      <td>1294012800</td>\n",
       "      <td>Much better than the usual diet bar.</td>\n",
       "      <td>I have lost considerable amount of weight with the Medifast system; however, their bars taste like cardboard to me.  These Thinkthin bars have a much more natural taste.  It both looks and tastes like something found in nature.  You can see the peanuts and dried fruit in them.  The Thinkthin bar even has less sugar than the medifast bars that I have paid double the price for.  Also, they taste better than Clif bars too.  And I continue to lose weight with the Thinkthin bar substitution.&lt;br /&gt;&lt;br /&gt;I like this product and now have purchased them a second time.</td>\n",
       "      <td>1.000000</td>\n",
       "      <td>True</td>\n",
       "      <td>False</td>\n",
       "      <td>False</td>\n",
       "    </tr>\n",
       "    <tr>\n",
       "      <th>143</th>\n",
       "      <td>15758</td>\n",
       "      <td>190863</td>\n",
       "      <td>190864</td>\n",
       "      <td>B0006LKDS2</td>\n",
       "      <td>A1X6X58OJ40FS0</td>\n",
       "      <td>Plums</td>\n",
       "      <td>8</td>\n",
       "      <td>8</td>\n",
       "      <td>5</td>\n",
       "      <td>1279670400</td>\n",
       "      <td>The best \"retro\" cake mix!!</td>\n",
       "      <td>How happy I am to have found a mix that lives up to its name! The original Tunnel of Fudge bundt cake was a prize winning cake of the 70's and the very best chocolate cake ever, in my opinion. The dry frosting mix used in this recipe went obsolete in the 90's. Now, finally, my family can enjoy this lushous cake once more with Nordic Ware's cake mix. I bought one and tried it and the same wonderful taste came back to me. I have recommeded this taste sensation to all of my friends and bought 2 more for myself. Hint:If the price scares you just think of what you pay at a bakery for a simple birthday cake.&lt;br /&gt;J.Peterson, MN</td>\n",
       "      <td>1.000000</td>\n",
       "      <td>True</td>\n",
       "      <td>False</td>\n",
       "      <td>False</td>\n",
       "    </tr>\n",
       "    <tr>\n",
       "      <th>144</th>\n",
       "      <td>257172</td>\n",
       "      <td>365796</td>\n",
       "      <td>365797</td>\n",
       "      <td>B008IY5EGK</td>\n",
       "      <td>ASIMCC20UVK58</td>\n",
       "      <td>R Shackleford</td>\n",
       "      <td>11</td>\n",
       "      <td>12</td>\n",
       "      <td>5</td>\n",
       "      <td>1345248000</td>\n",
       "      <td>YES! Popchips Nacho Cheese Tortilla!</td>\n",
       "      <td>In the pre-Popchips days Doritos were one of my favorite chips... I eat chips every day with lunch, now I only eat Popchips. I love the taste and the fact they're much lower in fat than \"regular\" chips. I eat the 3 ounce potato Popchips bags and now the 3.5 ounce Tortilla bags. These 3.5 oz bags seem to be just slightly less volume than the 3 oz potato bags but both are a satisfying amount. The nutritional values for the Tortilla bags are pretty much the same as the potato (not exact but close). So that said when I saw these brand new tortilla Popchips on Amazon I got excited! Excited over chips? Yes. I immediately ordered a box of the Nacho Cheese with subscription. Today they finally arrived and just in time for lunch. They nailed it! They look like any tortilla chip but a bit more puffy. They are crunchy but slightly more \"fluffy\" I guess you could say than a regular tortilla chip. The corn tortilla flavor is strong (tastes good) and the nacho cheese flavor tastes pretty much like you'd expect, very similar to nacho cheese Doritos (good!). Basically these taste like a very good tortilla chip or nacho cheese Dorito but without any greasy feeling or taste. I LOVE these, now I just need to try the other flavors!&lt;br /&gt;&lt;br /&gt;Side note... Boo Amazon dropping subscribe and save discount on Popchips to 5%...</td>\n",
       "      <td>0.916667</td>\n",
       "      <td>True</td>\n",
       "      <td>False</td>\n",
       "      <td>False</td>\n",
       "    </tr>\n",
       "    <tr>\n",
       "      <th>180</th>\n",
       "      <td>379067</td>\n",
       "      <td>207890</td>\n",
       "      <td>207891</td>\n",
       "      <td>B000CQID2Y</td>\n",
       "      <td>A3L2742VEAZ7R1</td>\n",
       "      <td>Richard Rychetsky</td>\n",
       "      <td>11</td>\n",
       "      <td>11</td>\n",
       "      <td>5</td>\n",
       "      <td>1159142400</td>\n",
       "      <td>Tried it...loved it...now my favorite herbal tea</td>\n",
       "      <td>Based on the other review, I went and tried this tea.  As a choir member, I am always interested in licorice products since they soothe a worn voice.  However, many of the teas I have tried have too much ginger in it.  I was pleasantly surprised when I tried this tea.&lt;br /&gt;&lt;br /&gt;1) The licorice taste is subtle, but definitely present.&lt;br /&gt;&lt;br /&gt;2) No sugar necessary.  As a dentist, I love this.  The licorice flavor doesn't jump out at you at first, but around 4 or 5 seconds after swallowing, the licorice \"dances\" around the sides of your tongue.  I don't know how else to describe it, but it really does dance.  I've never had that before.  Brilliant!&lt;br /&gt;&lt;br /&gt;3) It's best when over-steeped - like 10 minutes.&lt;br /&gt;&lt;br /&gt;4) Most grocery stores I've been to carry this, so it's readily available should you find yourself staring at an empty box early in the evening.</td>\n",
       "      <td>1.000000</td>\n",
       "      <td>True</td>\n",
       "      <td>False</td>\n",
       "      <td>False</td>\n",
       "    </tr>\n",
       "    <tr>\n",
       "      <th>187</th>\n",
       "      <td>352355</td>\n",
       "      <td>406873</td>\n",
       "      <td>406874</td>\n",
       "      <td>B000KEPBBY</td>\n",
       "      <td>A2S2IXQPTGDXIG</td>\n",
       "      <td>karen efthemes</td>\n",
       "      <td>6</td>\n",
       "      <td>6</td>\n",
       "      <td>5</td>\n",
       "      <td>1257379200</td>\n",
       "      <td>Easy and Yummy!</td>\n",
       "      <td>Made this soup last night. It was sooo easy and yummy! I was not sure how much doctoring would be necessary to make it tasty for everyone and was surprised to find that it needed little help. I followed the directions on the bag and mixed with vegie stock/water (I had to add a lot more than listed!) and some of the basic vegies on hand - onions, garlic, carrot, celery - that was it! I tasted and it was delicious the way it was.(with salt and pepper to tase). I did not add milk to make the creamed version as I really liked the clean simple flavors of the mix. It was so easy, required no special ingredients or trip to the grocery store. Love it!</td>\n",
       "      <td>1.000000</td>\n",
       "      <td>True</td>\n",
       "      <td>False</td>\n",
       "      <td>False</td>\n",
       "    </tr>\n",
       "    <tr>\n",
       "      <th>191</th>\n",
       "      <td>435113</td>\n",
       "      <td>396998</td>\n",
       "      <td>396999</td>\n",
       "      <td>B000NOXBWW</td>\n",
       "      <td>A2IG7TBIPSQNHE</td>\n",
       "      <td>C. Baker</td>\n",
       "      <td>10</td>\n",
       "      <td>10</td>\n",
       "      <td>5</td>\n",
       "      <td>1219363200</td>\n",
       "      <td>Best K-Cup Flavor, Best Price</td>\n",
       "      <td>The Tully French Roast is the strongest, richest, most flavorful k-cup I have found (better than Timothy's Espresso, which is weaker).  This k-cup of coffee gets big compliments from all my guests- it's even strong enough to pour over ice for iced coffees.&lt;br /&gt;&lt;br /&gt;The price on this 108 ct when I bought it was the best I've seen by far.</td>\n",
       "      <td>1.000000</td>\n",
       "      <td>True</td>\n",
       "      <td>False</td>\n",
       "      <td>False</td>\n",
       "    </tr>\n",
       "    <tr>\n",
       "      <th>203</th>\n",
       "      <td>317720</td>\n",
       "      <td>36338</td>\n",
       "      <td>36339</td>\n",
       "      <td>B0085V3YFO</td>\n",
       "      <td>A7SPJL2W06H4T</td>\n",
       "      <td>Richard Natoli-Rombach</td>\n",
       "      <td>6</td>\n",
       "      <td>6</td>\n",
       "      <td>5</td>\n",
       "      <td>1337817600</td>\n",
       "      <td>Love it</td>\n",
       "      <td>I have used The Vegg for a variety of recipes.  It is not exactly like eggs but gives that egg flavoring.  You may have to use starch with some of the recipes for a thickening/binding effect.  I have already developed two tofu cheesecake recipes that are pretty wonderful.</td>\n",
       "      <td>1.000000</td>\n",
       "      <td>True</td>\n",
       "      <td>False</td>\n",
       "      <td>False</td>\n",
       "    </tr>\n",
       "    <tr>\n",
       "      <th>218</th>\n",
       "      <td>295271</td>\n",
       "      <td>112605</td>\n",
       "      <td>112606</td>\n",
       "      <td>B004LL97EO</td>\n",
       "      <td>A22T1D6L5J2PCP</td>\n",
       "      <td>Dale Coddington \"Rachel Coddington\"</td>\n",
       "      <td>6</td>\n",
       "      <td>6</td>\n",
       "      <td>5</td>\n",
       "      <td>1232409600</td>\n",
       "      <td>What's not to like</td>\n",
       "      <td>Found these for a great deal..split the box with a friend and we both loved them.</td>\n",
       "      <td>1.000000</td>\n",
       "      <td>True</td>\n",
       "      <td>False</td>\n",
       "      <td>False</td>\n",
       "    </tr>\n",
       "    <tr>\n",
       "      <th>222</th>\n",
       "      <td>32045</td>\n",
       "      <td>349058</td>\n",
       "      <td>349059</td>\n",
       "      <td>B0000CERIV</td>\n",
       "      <td>A2PR9MFSBUUUP3</td>\n",
       "      <td>Maritsa \"anything fun is worth knowing about\"</td>\n",
       "      <td>6</td>\n",
       "      <td>6</td>\n",
       "      <td>5</td>\n",
       "      <td>1118880000</td>\n",
       "      <td>A cup of Chestnuts</td>\n",
       "      <td>I love this tea! Who ever thinks of it as cheap should really consider the complexity and the harmony of the flavors that come through with each cup. It may not be the prized white tea, but the nutty taste keeps you wanting more. It's a great part of my tea alternation. I go from something fruity to nutty interchangably. For my nutty trips I consider a cup of Genmai cha and Oolong and for the fruity I recommend a cup of Orange Blossom White Tea. Also try Japanese charry green. Enjoy!</td>\n",
       "      <td>1.000000</td>\n",
       "      <td>True</td>\n",
       "      <td>False</td>\n",
       "      <td>False</td>\n",
       "    </tr>\n",
       "    <tr>\n",
       "      <th>228</th>\n",
       "      <td>10439</td>\n",
       "      <td>127064</td>\n",
       "      <td>127065</td>\n",
       "      <td>B000P6MSOU</td>\n",
       "      <td>A1QJ0UMSIE1MCP</td>\n",
       "      <td>David Alexander</td>\n",
       "      <td>6</td>\n",
       "      <td>6</td>\n",
       "      <td>4</td>\n",
       "      <td>1274227200</td>\n",
       "      <td>Decent cracker snacks</td>\n",
       "      <td>These things are fairly tasty, but really I get them more for their low price than their great flavor. It's nice to have something like this handy when you need to eat on the run or in the car.</td>\n",
       "      <td>1.000000</td>\n",
       "      <td>True</td>\n",
       "      <td>False</td>\n",
       "      <td>False</td>\n",
       "    </tr>\n",
       "    <tr>\n",
       "      <th>236</th>\n",
       "      <td>264391</td>\n",
       "      <td>130487</td>\n",
       "      <td>130488</td>\n",
       "      <td>B001IZLWNA</td>\n",
       "      <td>A152ST1WCDTPI5</td>\n",
       "      <td>Ueng Sun Chao-chuan \"Fashion 50's\"</td>\n",
       "      <td>5</td>\n",
       "      <td>5</td>\n",
       "      <td>5</td>\n",
       "      <td>1245715200</td>\n",
       "      <td>Wrong picture with right taste</td>\n",
       "      <td>This is actually the purple one, the orange one is Tropical. This is the one with different berrys, great for berry lovers. Taste great, I carry it with me all the time, take one will immediately cheer me up.</td>\n",
       "      <td>1.000000</td>\n",
       "      <td>True</td>\n",
       "      <td>False</td>\n",
       "      <td>False</td>\n",
       "    </tr>\n",
       "    <tr>\n",
       "      <th>266</th>\n",
       "      <td>379946</td>\n",
       "      <td>111221</td>\n",
       "      <td>111222</td>\n",
       "      <td>B000EMQENG</td>\n",
       "      <td>A3M8R4JD1SIS76</td>\n",
       "      <td>'MaryLou Cheatham \"The Collard Patch\"</td>\n",
       "      <td>7</td>\n",
       "      <td>7</td>\n",
       "      <td>4</td>\n",
       "      <td>1213833600</td>\n",
       "      <td>A Different Flavor</td>\n",
       "      <td>We like the ranch and bacon flavor, but it is not what we usually think of when we think pasta salad. We think of something more Italian than ranch when we have pasta.  Try it, though.  You may love it if you are fond of ranch flavors.</td>\n",
       "      <td>1.000000</td>\n",
       "      <td>True</td>\n",
       "      <td>False</td>\n",
       "      <td>False</td>\n",
       "    </tr>\n",
       "    <tr>\n",
       "      <th>284</th>\n",
       "      <td>174613</td>\n",
       "      <td>122169</td>\n",
       "      <td>122170</td>\n",
       "      <td>B00333GF82</td>\n",
       "      <td>A3KWHCNMMNFSQE</td>\n",
       "      <td>hurricanelena</td>\n",
       "      <td>4</td>\n",
       "      <td>4</td>\n",
       "      <td>5</td>\n",
       "      <td>1278892800</td>\n",
       "      <td>Healthy Bars Without the Extra Flavors</td>\n",
       "      <td>I brought these at a local health food store since they were the only ones that weren't peanut butter or chocolate flavored, or didn't have several lines of \"extra\" ingredients in them. These are on the savory side of the flavor spectrum, if you like the sweeter granola/energy/fiber bars, these will be on the bland side. The best way to describe the taste is that they taste like they look - green. I found these were much more filling that traditional granola bars with less calories, fat, and additives. However, they are on the pricey side. I keep these handy in my car and purse to prevent hungry trips to fast food restaurants when time is short.</td>\n",
       "      <td>1.000000</td>\n",
       "      <td>True</td>\n",
       "      <td>False</td>\n",
       "      <td>False</td>\n",
       "    </tr>\n",
       "  </tbody>\n",
       "</table>\n",
       "</div>"
      ],
      "text/plain": [
       "     Unnamed: 0  Unnamed: 0.1      Id   ProductId          UserId  \\\n",
       "0    147718      546145        546146  B001AZ2UYI  AR4KQLKL8VJO4    \n",
       "1    223621      478031        478032  B000WZZVI4  A2TIETTFZ3YYAU   \n",
       "16   15184       448638        448639  B004ZWRA6G  A11K70GWSB7A5Z   \n",
       "32   280927      115673        115674  B000E23VXW  A2HRZ6AEVI3O23   \n",
       "38   375116      117691        117692  B000HPBR8W  A12N6FQ84I2GZX   \n",
       "48   357426      466334        466335  B0010VMEFM  A2MNB77YGJ3CN0   \n",
       "82   380940      212081        212082  B000CNB4LE  AFZI3G887G93K    \n",
       "100  379519      238974        238975  B003PFWPG4  A2XBTL8WQHRVP4   \n",
       "143  15758       190863        190864  B0006LKDS2  A1X6X58OJ40FS0   \n",
       "144  257172      365796        365797  B008IY5EGK  ASIMCC20UVK58    \n",
       "180  379067      207890        207891  B000CQID2Y  A3L2742VEAZ7R1   \n",
       "187  352355      406873        406874  B000KEPBBY  A2S2IXQPTGDXIG   \n",
       "191  435113      396998        396999  B000NOXBWW  A2IG7TBIPSQNHE   \n",
       "203  317720      36338         36339   B0085V3YFO  A7SPJL2W06H4T    \n",
       "218  295271      112605        112606  B004LL97EO  A22T1D6L5J2PCP   \n",
       "222  32045       349058        349059  B0000CERIV  A2PR9MFSBUUUP3   \n",
       "228  10439       127064        127065  B000P6MSOU  A1QJ0UMSIE1MCP   \n",
       "236  264391      130487        130488  B001IZLWNA  A152ST1WCDTPI5   \n",
       "266  379946      111221        111222  B000EMQENG  A3M8R4JD1SIS76   \n",
       "284  174613      122169        122170  B00333GF82  A3KWHCNMMNFSQE   \n",
       "\n",
       "                                       ProfileName  HelpfulnessNumerator  \\\n",
       "0    W. Maxwell                                     14                     \n",
       "1    Donna Toy \"Foot comfort expert\"                10                     \n",
       "16   Nicole Del Sesto                               14                     \n",
       "32   Jaime Lujan \"Jimmy Fiasco\"                     30                     \n",
       "38   Stitcher                                       7                      \n",
       "48   L. Mountford                                   5                      \n",
       "82   Hugger of Trees \"Ricardo\"                      5                      \n",
       "100  Melanie Adamski                                7                      \n",
       "143  Plums                                          8                      \n",
       "144  R Shackleford                                  11                     \n",
       "180  Richard Rychetsky                              11                     \n",
       "187  karen efthemes                                 6                      \n",
       "191  C. Baker                                       10                     \n",
       "203  Richard Natoli-Rombach                         6                      \n",
       "218  Dale Coddington \"Rachel Coddington\"            6                      \n",
       "222  Maritsa \"anything fun is worth knowing about\"  6                      \n",
       "228  David Alexander                                6                      \n",
       "236  Ueng Sun Chao-chuan \"Fashion 50's\"             5                      \n",
       "266  'MaryLou Cheatham \"The Collard Patch\"          7                      \n",
       "284  hurricanelena                                  4                      \n",
       "\n",
       "     HelpfulnessDenominator  Score        Time  \\\n",
       "0    15                      5      1261785600   \n",
       "1    10                      5      1201478400   \n",
       "16   14                      4      1308700800   \n",
       "32   30                      5      1268524800   \n",
       "38   7                       5      1255219200   \n",
       "48   5                       5      1211932800   \n",
       "82   5                       5      1318204800   \n",
       "100  7                       5      1294012800   \n",
       "143  8                       5      1279670400   \n",
       "144  12                      5      1345248000   \n",
       "180  11                      5      1159142400   \n",
       "187  6                       5      1257379200   \n",
       "191  10                      5      1219363200   \n",
       "203  6                       5      1337817600   \n",
       "218  6                       5      1232409600   \n",
       "222  6                       5      1118880000   \n",
       "228  6                       4      1274227200   \n",
       "236  5                       5      1245715200   \n",
       "266  7                       4      1213833600   \n",
       "284  4                       5      1278892800   \n",
       "\n",
       "                                              Summary  \\\n",
       "0    Heavenly Oil                                       \n",
       "1    Great product, but don't buy it here               \n",
       "16   Yep.  It's gum all right.                          \n",
       "32   Better Than Any Other Proteing Supplement          \n",
       "38   A favorite                                         \n",
       "48   A little bit of chocolate heaven ...               \n",
       "82   tasty and clean                                    \n",
       "100  Much better than the usual diet bar.               \n",
       "143  The best \"retro\" cake mix!!                        \n",
       "144  YES! Popchips Nacho Cheese Tortilla!               \n",
       "180  Tried it...loved it...now my favorite herbal tea   \n",
       "187  Easy and Yummy!                                    \n",
       "191  Best K-Cup Flavor, Best Price                      \n",
       "203  Love it                                            \n",
       "218  What's not to like                                 \n",
       "222  A cup of Chestnuts                                 \n",
       "228  Decent cracker snacks                              \n",
       "236  Wrong picture with right taste                     \n",
       "266  A Different Flavor                                 \n",
       "284  Healthy Bars Without the Extra Flavors             \n",
       "\n",
       "                                                                                                                                                                                                                                                                                                                                                                                                                                                                                                                                                                                                                                                                                                                                                                                                                                                                                                                                                                                                                                                                                                                                                                                                                                                                                                                                                                                                                                                                                                                  Text  \\\n",
       "0    A chance introduction to Savini Tartufi White Truffle oil has become one our delightful pasta experiences. A light dribble of oil, with a sliver of goat cheese, and our pasta is complete.<br />Heavenly!<br /><br />This Savini oil has the aroma and the finish of a great flavored oil, with the sophisticated delicacy to warrant the price.<br /><br />Other domestic oils finish so harshly as to be distasteful and disagreeable. Having experienced this oil, we know what good food may be experienced,<br /><br />We discovered this oil upon the learning our previous oil was no longer being imported. It too was wonderful, but our need to have a replacement, a superior truffle oil, sent us searching, and we found this Italian export through Amazon.com.<br /><br />For those enjoying truffles, I heartily recommend this oil for eggs, pasta, salads, where ever a premium oil would add a delicate note to the flavors of the dish.                                                                                                                                                                                                                                                                                                                                                                                                                                                                                                                                                        \n",
       "1    I have no complaints with the product. But don't buy it here. The shipping was double the cost of the product.                                                                                                                                                                                                                                                                                                                                                                                                                                                                                                                                                                                                                                                                                                                                                                                                                                                                                                                                                                                                                                                                                                                                                                                                                                                                                                                                                                                                      \n",
       "16   I am a Trident Original gal.  Have been since my youth.  Oh sure, I strayed into Extra territory, and who can forget the \"Bubble Yum\" years?  (Red Dye Number 2 anyone?  I know, you are too young.  Whatever.)<br /><br />I always returned to my Trident Original. It tastes good, the flavor lasts, it's the right size.  But this is not Trident Original.  This is fancy pants Trident Vitality \"Awaken.\"<br /><br />Trident lets you know it's fancy by excessively packaging it.  It's a lot of paper and plastic for 9 pieces of gum, so I dropped it a star for that.<br /><br />The gum is nicely flavored.  I do like the texture aspect when biting into a crunchy outer coating, and getting into the soft center.  The flavor lasts a long, long time.  (I'm pretty sure that's another gum's motto - Hubba Bubba as it turns out.)<br /><br />I chewed for 45 minutes.  At first it's a pretty soft chew, but the gum firms up as time goes on.  By the time I was ready to spit it out, the flavor was still there but my jaw was sore.  I'm sure there's a joke in there somewhere.<br /><br />It's a nice gum, but nothing I would throw over my Trident Original for, and the packaging would give me pause anyway.  Though, I will say that one benefit of the packaging means that it is impossible for the gum to fall out of the pack and get purse debris stuck to it, so that's a nice feature, but heck ... what's a little sand and tobacco stuck to your gum?  It gives it character.   \n",
       "32   I recently switched to protein supplements in an attempt to build lean muscle.  Whey protein worked well but left me feeling bloated.  I stumbled across this product while looking for an alternative, and it is fantastic! No bloating, no bog down, leaves me feeling fantastic.  The taste leaves something to be desired, but what can you expect?  It's raw, organic, and has no additives whatsoever, so protein is all you get.  Mix it with a bit of almond milk, almond butter, and a banana, and it's the best thing ever!                                                                                                                                                                                                                                                                                                                                                                                                                                                                                                                                                                                                                                                                                                                                                                                                                                                                                                                                                                               \n",
       "38   This is my 5-yr-old daughter's favorite gluten free cracker.  It has cheese powder on the outside of the cracker.  She misses goldfish crackers and this is the only cheese GF cracker we have found, but they are so good the whole family eats them.                                                                                                                                                                                                                                                                                                                                                                                                                                                                                                                                                                                                                                                                                                                                                                                                                                                                                                                                                                                                                                                                                                                                                                                                                                                              \n",
       "48   Wow!  As an unrepentant chocoholic, I'm always looking for great yummy chocolate treats.  Unfortunately, there IS a downside: too much of a good thing can lead to less than desirable results, especially on the scale.<br /><br />Soooo ... I try to moderate my chocolate consumption, exercising portion control, etc.<br /><br />I've been a big fan of Warm Delights since they were introduced - they're VERY good and easy to prepare -- but they're rather high in calories (and Weight Watchers points).<br /><br />These new Minis are the perfect solution:  150 calories (or 3 Weight Watchers points).  I fix one of these, and top it with a small scoop of low-fat frozen yogurt -- heaven!  They're just the right size to give me my chocolate \"fix.\"<br /><br />The price here is excellent, too.                                                                                                                                                                                                                                                                                                                                                                                                                                                                                                                                                                                                                                                                                                \n",
       "82   I started hearing about coconut water several years ago, but it generally struck me as dirty dish water when I would try to drink it. Then Zico came along. I've been a Zico convert now for about four months, and I can literally feel the difference this product makes in my body chemistry. There are indeed other coconut water products out there that are similar, but Zico hits the sweet spot with price, size, and quality of product.                                                                                                                                                                                                                                                                                                                                                                                                                                                                                                                                                                                                                                                                                                                                                                                                                                                                                                                                                                                                                                                                   \n",
       "100  I have lost considerable amount of weight with the Medifast system; however, their bars taste like cardboard to me.  These Thinkthin bars have a much more natural taste.  It both looks and tastes like something found in nature.  You can see the peanuts and dried fruit in them.  The Thinkthin bar even has less sugar than the medifast bars that I have paid double the price for.  Also, they taste better than Clif bars too.  And I continue to lose weight with the Thinkthin bar substitution.<br /><br />I like this product and now have purchased them a second time.                                                                                                                                                                                                                                                                                                                                                                                                                                                                                                                                                                                                                                                                                                                                                                                                                                                                                                                               \n",
       "143  How happy I am to have found a mix that lives up to its name! The original Tunnel of Fudge bundt cake was a prize winning cake of the 70's and the very best chocolate cake ever, in my opinion. The dry frosting mix used in this recipe went obsolete in the 90's. Now, finally, my family can enjoy this lushous cake once more with Nordic Ware's cake mix. I bought one and tried it and the same wonderful taste came back to me. I have recommeded this taste sensation to all of my friends and bought 2 more for myself. Hint:If the price scares you just think of what you pay at a bakery for a simple birthday cake.<br />J.Peterson, MN                                                                                                                                                                                                                                                                                                                                                                                                                                                                                                                                                                                                                                                                                                                                                                                                                                                               \n",
       "144  In the pre-Popchips days Doritos were one of my favorite chips... I eat chips every day with lunch, now I only eat Popchips. I love the taste and the fact they're much lower in fat than \"regular\" chips. I eat the 3 ounce potato Popchips bags and now the 3.5 ounce Tortilla bags. These 3.5 oz bags seem to be just slightly less volume than the 3 oz potato bags but both are a satisfying amount. The nutritional values for the Tortilla bags are pretty much the same as the potato (not exact but close). So that said when I saw these brand new tortilla Popchips on Amazon I got excited! Excited over chips? Yes. I immediately ordered a box of the Nacho Cheese with subscription. Today they finally arrived and just in time for lunch. They nailed it! They look like any tortilla chip but a bit more puffy. They are crunchy but slightly more \"fluffy\" I guess you could say than a regular tortilla chip. The corn tortilla flavor is strong (tastes good) and the nacho cheese flavor tastes pretty much like you'd expect, very similar to nacho cheese Doritos (good!). Basically these taste like a very good tortilla chip or nacho cheese Dorito but without any greasy feeling or taste. I LOVE these, now I just need to try the other flavors!<br /><br />Side note... Boo Amazon dropping subscribe and save discount on Popchips to 5%...                                                                                                                                        \n",
       "180  Based on the other review, I went and tried this tea.  As a choir member, I am always interested in licorice products since they soothe a worn voice.  However, many of the teas I have tried have too much ginger in it.  I was pleasantly surprised when I tried this tea.<br /><br />1) The licorice taste is subtle, but definitely present.<br /><br />2) No sugar necessary.  As a dentist, I love this.  The licorice flavor doesn't jump out at you at first, but around 4 or 5 seconds after swallowing, the licorice \"dances\" around the sides of your tongue.  I don't know how else to describe it, but it really does dance.  I've never had that before.  Brilliant!<br /><br />3) It's best when over-steeped - like 10 minutes.<br /><br />4) Most grocery stores I've been to carry this, so it's readily available should you find yourself staring at an empty box early in the evening.                                                                                                                                                                                                                                                                                                                                                                                                                                                                                                                                                                                                         \n",
       "187  Made this soup last night. It was sooo easy and yummy! I was not sure how much doctoring would be necessary to make it tasty for everyone and was surprised to find that it needed little help. I followed the directions on the bag and mixed with vegie stock/water (I had to add a lot more than listed!) and some of the basic vegies on hand - onions, garlic, carrot, celery - that was it! I tasted and it was delicious the way it was.(with salt and pepper to tase). I did not add milk to make the creamed version as I really liked the clean simple flavors of the mix. It was so easy, required no special ingredients or trip to the grocery store. Love it!                                                                                                                                                                                                                                                                                                                                                                                                                                                                                                                                                                                                                                                                                                                                                                                                                                         \n",
       "191  The Tully French Roast is the strongest, richest, most flavorful k-cup I have found (better than Timothy's Espresso, which is weaker).  This k-cup of coffee gets big compliments from all my guests- it's even strong enough to pour over ice for iced coffees.<br /><br />The price on this 108 ct when I bought it was the best I've seen by far.                                                                                                                                                                                                                                                                                                                                                                                                                                                                                                                                                                                                                                                                                                                                                                                                                                                                                                                                                                                                                                                                                                                                                                \n",
       "203  I have used The Vegg for a variety of recipes.  It is not exactly like eggs but gives that egg flavoring.  You may have to use starch with some of the recipes for a thickening/binding effect.  I have already developed two tofu cheesecake recipes that are pretty wonderful.                                                                                                                                                                                                                                                                                                                                                                                                                                                                                                                                                                                                                                                                                                                                                                                                                                                                                                                                                                                                                                                                                                                                                                                                                                    \n",
       "218  Found these for a great deal..split the box with a friend and we both loved them.                                                                                                                                                                                                                                                                                                                                                                                                                                                                                                                                                                                                                                                                                                                                                                                                                                                                                                                                                                                                                                                                                                                                                                                                                                                                                                                                                                                                                                   \n",
       "222  I love this tea! Who ever thinks of it as cheap should really consider the complexity and the harmony of the flavors that come through with each cup. It may not be the prized white tea, but the nutty taste keeps you wanting more. It's a great part of my tea alternation. I go from something fruity to nutty interchangably. For my nutty trips I consider a cup of Genmai cha and Oolong and for the fruity I recommend a cup of Orange Blossom White Tea. Also try Japanese charry green. Enjoy!                                                                                                                                                                                                                                                                                                                                                                                                                                                                                                                                                                                                                                                                                                                                                                                                                                                                                                                                                                                                            \n",
       "228  These things are fairly tasty, but really I get them more for their low price than their great flavor. It's nice to have something like this handy when you need to eat on the run or in the car.                                                                                                                                                                                                                                                                                                                                                                                                                                                                                                                                                                                                                                                                                                                                                                                                                                                                                                                                                                                                                                                                                                                                                                                                                                                                                                                   \n",
       "236  This is actually the purple one, the orange one is Tropical. This is the one with different berrys, great for berry lovers. Taste great, I carry it with me all the time, take one will immediately cheer me up.                                                                                                                                                                                                                                                                                                                                                                                                                                                                                                                                                                                                                                                                                                                                                                                                                                                                                                                                                                                                                                                                                                                                                                                                                                                                                                    \n",
       "266  We like the ranch and bacon flavor, but it is not what we usually think of when we think pasta salad. We think of something more Italian than ranch when we have pasta.  Try it, though.  You may love it if you are fond of ranch flavors.                                                                                                                                                                                                                                                                                                                                                                                                                                                                                                                                                                                                                                                                                                                                                                                                                                                                                                                                                                                                                                                                                                                                                                                                                                                                         \n",
       "284  I brought these at a local health food store since they were the only ones that weren't peanut butter or chocolate flavored, or didn't have several lines of \"extra\" ingredients in them. These are on the savory side of the flavor spectrum, if you like the sweeter granola/energy/fiber bars, these will be on the bland side. The best way to describe the taste is that they taste like they look - green. I found these were much more filling that traditional granola bars with less calories, fat, and additives. However, they are on the pricey side. I keep these handy in my car and purse to prevent hungry trips to fast food restaurants when time is short.                                                                                                                                                                                                                                                                                                                                                                                                                                                                                                                                                                                                                                                                                                                                                                                                                                       \n",
       "\n",
       "     helpScore  helpful  svm_predictions  nbs_predictions  \n",
       "0    0.933333   True     False            False            \n",
       "1    1.000000   True     False            False            \n",
       "16   1.000000   True     False            False            \n",
       "32   1.000000   True     False            False            \n",
       "38   1.000000   True     False            False            \n",
       "48   1.000000   True     False            False            \n",
       "82   1.000000   True     False            False            \n",
       "100  1.000000   True     False            False            \n",
       "143  1.000000   True     False            False            \n",
       "144  0.916667   True     False            False            \n",
       "180  1.000000   True     False            False            \n",
       "187  1.000000   True     False            False            \n",
       "191  1.000000   True     False            False            \n",
       "203  1.000000   True     False            False            \n",
       "218  1.000000   True     False            False            \n",
       "222  1.000000   True     False            False            \n",
       "228  1.000000   True     False            False            \n",
       "236  1.000000   True     False            False            \n",
       "266  1.000000   True     False            False            \n",
       "284  1.000000   True     False            False            "
      ]
     },
     "execution_count": 25,
     "metadata": {},
     "output_type": "execute_result"
    }
   ],
   "source": [
    "# False Negatives -- problem: really missing the vast majority of positives\n",
    "\n",
    "pd.set_option('display.max_colwidth', -1)\n",
    "amazon[amazon.helpful & ~amazon.nbs_predictions].head(20)"
   ]
  },
  {
   "cell_type": "code",
   "execution_count": 33,
   "metadata": {},
   "outputs": [
    {
     "data": {
      "text/plain": [
       "104"
      ]
     },
     "execution_count": 33,
     "metadata": {},
     "output_type": "execute_result"
    }
   ],
   "source": [
    "# False Positives -- still the problem is catching all the reviews without denominator at all\n",
    "\n",
    "false_positives = amazon[~amazon.helpful & amazon.nbs_predictions]\n",
    "((false_positives.helpScore > 0.8) & (false_positives.helpScore < .9)).sum()"
   ]
  },
  {
   "cell_type": "code",
   "execution_count": 30,
   "metadata": {},
   "outputs": [
    {
     "data": {
      "text/plain": [
       "29312"
      ]
     },
     "execution_count": 30,
     "metadata": {},
     "output_type": "execute_result"
    }
   ],
   "source": [
    "(amazon.helpScore==1).sum()"
   ]
  },
  {
   "cell_type": "code",
   "execution_count": 34,
   "metadata": {},
   "outputs": [
    {
     "data": {
      "text/plain": [
       "1343"
      ]
     },
     "execution_count": 34,
     "metadata": {},
     "output_type": "execute_result"
    }
   ],
   "source": [
    "((amazon.helpScore > 0.8) & (amazon.helpScore < .9)).sum()"
   ]
  },
  {
   "cell_type": "code",
   "execution_count": null,
   "metadata": {
    "collapsed": true
   },
   "outputs": [],
   "source": []
  }
 ],
 "metadata": {
  "kernelspec": {
   "display_name": "Python 3",
   "language": "python",
   "name": "python3"
  },
  "language_info": {
   "codemirror_mode": {
    "name": "ipython",
    "version": 3
   },
   "file_extension": ".py",
   "mimetype": "text/x-python",
   "name": "python",
   "nbconvert_exporter": "python",
   "pygments_lexer": "ipython3",
   "version": "3.6.3"
  },
  "toc": {
   "nav_menu": {},
   "number_sections": true,
   "sideBar": true,
   "skip_h1_title": true,
   "title_cell": "Table of Contents",
   "title_sidebar": "Contents",
   "toc_cell": true,
   "toc_position": {},
   "toc_section_display": true,
   "toc_window_display": false
  }
 },
 "nbformat": 4,
 "nbformat_minor": 1
}
