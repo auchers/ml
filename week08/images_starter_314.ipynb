{
 "cells": [
  {
   "cell_type": "code",
   "execution_count": 7,
   "metadata": {
    "collapsed": true
   },
   "outputs": [],
   "source": [
    "import numpy as np\n",
    "import pandas as pd\n",
    "import matplotlib.pyplot as plt\n",
    "import pickle\n",
    "from skimage import io, color, img_as_bool, exposure, transform, feature\n",
    "%matplotlib inline"
   ]
  },
  {
   "cell_type": "code",
   "execution_count": 8,
   "metadata": {
    "collapsed": true
   },
   "outputs": [],
   "source": [
    "# file paths\n",
    "ci_path = '/Users/aucherserr/Desktop/MachineLearning/myGit/ml/mlAssignment2/plane_data/cropped_images_18/'\n",
    "l_file = '/Users/aucherserr/Desktop/MachineLearning/myGit/ml/mlAssignment2/plane_data/plane_labels_2018.csv'\n",
    "sandbox = '/Users/aucherserr/Desktop/MachineLearning/myGit/ml/mlAssignment2/sandbox/'"
   ]
  },
  {
   "cell_type": "code",
   "execution_count": 13,
   "metadata": {},
   "outputs": [
    {
     "name": "stdout",
     "output_type": "stream",
     "text": [
      "                   img_name  plane\n",
      "0  2016-08-02T13+50+24_430Z  False\n",
      "1  2016-08-02T14+12+37_390Z  False\n",
      "2  2016-08-02T22+20+26_600Z  False\n",
      "3  2016-08-03T12+04+30_670Z  False\n",
      "4  2016-08-03T12+32+21_790Z  False\n",
      "(6758, 2)\n"
     ]
    }
   ],
   "source": [
    "# all labels\n",
    "plane_data = pd.read_csv(l_file)\n",
    "print(plane_data.head())\n",
    "print(plane_data.shape)"
   ]
  },
  {
   "cell_type": "code",
   "execution_count": 14,
   "metadata": {},
   "outputs": [
    {
     "name": "stdout",
     "output_type": "stream",
     "text": [
      "101\n",
      "(101, 2)\n"
     ]
    }
   ],
   "source": [
    "# filter to include only the airplane images\n",
    "print(plane_data['plane'].sum())\n",
    "aircraft = plane_data[plane_data['plane']==True]\n",
    "print(aircraft.shape)"
   ]
  },
  {
   "cell_type": "code",
   "execution_count": 11,
   "metadata": {},
   "outputs": [
    {
     "name": "stdout",
     "output_type": "stream",
     "text": [
      "(20, 2)\n"
     ]
    }
   ],
   "source": [
    "# take a random subset of 20 of the airplane images\n",
    "aircraft_subset = aircraft.sample(20)\n",
    "print(aircraft_subset.shape)"
   ]
  },
  {
   "cell_type": "code",
   "execution_count": 56,
   "metadata": {},
   "outputs": [
    {
     "data": {
      "text/plain": [
       "(60, 140, 4)"
      ]
     },
     "execution_count": 56,
     "metadata": {},
     "output_type": "execute_result"
    }
   ],
   "source": [
    "# aircraft_subset[1,:]\n",
    "\n",
    "testFile = ci_path + '2017-02-04T19+24+55_780Z' + '.png'\n",
    "img_raw = io.imread(imname)\n",
    "img_raw.shape"
   ]
  },
  {
   "cell_type": "code",
   "execution_count": 63,
   "metadata": {
    "scrolled": true
   },
   "outputs": [
    {
     "data": {
      "text/plain": [
       "array([[[ 48,  49,  51, 255],\n",
       "        [ 72,  73,  75, 255],\n",
       "        [ 57,  58,  60, 255],\n",
       "        ..., \n",
       "        [ 40,  50,  49, 255],\n",
       "        [ 39,  49,  48, 255],\n",
       "        [ 48,  56,  58, 255]],\n",
       "\n",
       "       [[ 51,  55,  56, 255],\n",
       "        [ 66,  70,  71, 255],\n",
       "        [ 56,  60,  61, 255],\n",
       "        ..., \n",
       "        [ 39,  49,  48, 255],\n",
       "        [ 38,  48,  47, 255],\n",
       "        [ 51,  56,  59, 255]],\n",
       "\n",
       "       [[ 55,  59,  60, 255],\n",
       "        [ 63,  67,  68, 255],\n",
       "        [ 57,  61,  62, 255],\n",
       "        ..., \n",
       "        [ 38,  48,  47, 255],\n",
       "        [ 37,  47,  46, 255],\n",
       "        [ 53,  58,  61, 255]],\n",
       "\n",
       "       ..., \n",
       "       [[145, 136, 119, 255],\n",
       "        [145, 136, 119, 255],\n",
       "        [145, 136, 119, 255],\n",
       "        ..., \n",
       "        [131, 124, 108, 255],\n",
       "        [131, 124, 108, 255],\n",
       "        [132, 124, 111, 255]],\n",
       "\n",
       "       [[146, 137, 120, 255],\n",
       "        [144, 135, 118, 255],\n",
       "        [143, 134, 117, 255],\n",
       "        ..., \n",
       "        [125, 118, 102, 255],\n",
       "        [125, 118, 102, 255],\n",
       "        [125, 117, 104, 255]],\n",
       "\n",
       "       [[143, 136, 118, 255],\n",
       "        [144, 135, 118, 255],\n",
       "        [143, 134, 117, 255],\n",
       "        ..., \n",
       "        [131, 123, 110, 255],\n",
       "        [131, 123, 110, 255],\n",
       "        [130, 122, 109, 255]]], dtype=uint8)"
      ]
     },
     "execution_count": 63,
     "metadata": {},
     "output_type": "execute_result"
    }
   ],
   "source": [
    "img_raw"
   ]
  },
  {
   "cell_type": "code",
   "execution_count": 65,
   "metadata": {
    "scrolled": true
   },
   "outputs": [
    {
     "data": {
      "text/plain": [
       "array([[ 0.19188902,  0.28600667,  0.22718314, ...,  0.18746235,\n",
       "         0.18354078,  0.21350667],\n",
       "       [ 0.21263569,  0.27145922,  0.23224353, ...,  0.18354078,\n",
       "         0.17961922,  0.21628941],\n",
       "       [ 0.22832196,  0.25969451,  0.2361651 , ...,  0.17961922,\n",
       "         0.17569765,  0.22413255],\n",
       "       ..., \n",
       "       [ 0.53602667,  0.53602667,  0.53602667, ...,  0.48758392,\n",
       "         0.48758392,  0.48926549],\n",
       "       [ 0.53994824,  0.5321051 ,  0.52818353, ...,  0.46405451,\n",
       "         0.46405451,  0.46181451],\n",
       "       [ 0.53407725,  0.5321051 ,  0.52818353, ...,  0.48534392,\n",
       "         0.48534392,  0.48142235]])"
      ]
     },
     "execution_count": 65,
     "metadata": {},
     "output_type": "execute_result"
    }
   ],
   "source": [
    "img_raw\n",
    "test = color.rgb2gray(img_raw)\n",
    "test\n"
   ]
  },
  {
   "cell_type": "code",
   "execution_count": 66,
   "metadata": {
    "scrolled": false
   },
   "outputs": [
    {
     "name": "stdout",
     "output_type": "stream",
     "text": [
      "(60, 140)\n",
      "[[False False False ..., False False False]\n",
      " [False False False ..., False False False]\n",
      " [False False False ..., False False False]\n",
      " ..., \n",
      " [False False False ..., False False False]\n",
      " [False False False ..., False False False]\n",
      " [False False False ..., False False False]]\n"
     ]
    }
   ],
   "source": [
    "# for each of the subset images, alter them and view the alterations\n",
    "f = open(sandbox + \"view_images.html\",\"w\") \n",
    "first_image = False\n",
    "\n",
    "for index, row in aircraft_subset.iterrows():\n",
    "    imname = ci_path + row['img_name'] + '.png'\n",
    "    img_raw = io.imread(imname)\n",
    "    \n",
    "    grey = color.rgb2grey(img_raw)\n",
    "    \n",
    "    canny = feature.canny(grey)\n",
    "#     daisy = feature.daisy(grey)\n",
    "    \n",
    "    final_image = canny\n",
    "    im = sandbox + row['img_name'] + '.png'\n",
    "    plt.imsave(im, final_image)\n",
    "    if first_image==False:\n",
    "        print(final_image.shape)\n",
    "        print(final_image)\n",
    "        first_image = True\n",
    "    f.write(\"<img src='\" + row['img_name'] + \".png' width='320'>\\n\")\n",
    "\n",
    "f.close() \n"
   ]
  },
  {
   "cell_type": "code",
   "execution_count": 48,
   "metadata": {},
   "outputs": [
    {
     "name": "stdout",
     "output_type": "stream",
     "text": [
      "(60, 140)\n",
      "[[ 0.19188902  0.28600667  0.22718314 ...,  0.18746235  0.18354078\n",
      "   0.21350667]\n",
      " [ 0.21263569  0.27145922  0.23224353 ...,  0.18354078  0.17961922\n",
      "   0.21628941]\n",
      " [ 0.22832196  0.25969451  0.2361651  ...,  0.17961922  0.17569765\n",
      "   0.22413255]\n",
      " ..., \n",
      " [ 0.53602667  0.53602667  0.53602667 ...,  0.48758392  0.48758392\n",
      "   0.48926549]\n",
      " [ 0.53994824  0.5321051   0.52818353 ...,  0.46405451  0.46405451\n",
      "   0.46181451]\n",
      " [ 0.53407725  0.5321051   0.52818353 ...,  0.48534392  0.48534392\n",
      "   0.48142235]]\n"
     ]
    }
   ],
   "source": [
    "# for each of the subset images, alter them and view the alterations\n",
    "f = open(sandbox + \"view_images.html\",\"w\") \n",
    "first_image = False\n",
    "\n",
    "for index, row in aircraft_subset.iterrows():\n",
    "    imname = ci_path + row['img_name'] + '.png'\n",
    "    img_raw = io.imread(imname)\n",
    "    final_image = color.rgb2gray(img_raw)\n",
    "    im = sandbox + row['img_name'] + '.png'\n",
    "    plt.imsave(im, final_image)\n",
    "    if first_image==False:\n",
    "        print(final_image.shape)\n",
    "        print(final_image)\n",
    "        first_image = True\n",
    "    f.write(\"<img src='\" + row['img_name'] + \".png' width='320'>\\n\")\n",
    "\n",
    "f.close() "
   ]
  },
  {
   "cell_type": "code",
   "execution_count": null,
   "metadata": {
    "collapsed": true
   },
   "outputs": [],
   "source": []
  }
 ],
 "metadata": {
  "kernelspec": {
   "display_name": "Python 3",
   "language": "python",
   "name": "python3"
  },
  "language_info": {
   "codemirror_mode": {
    "name": "ipython",
    "version": 3
   },
   "file_extension": ".py",
   "mimetype": "text/x-python",
   "name": "python",
   "nbconvert_exporter": "python",
   "pygments_lexer": "ipython3",
   "version": "3.6.3"
  }
 },
 "nbformat": 4,
 "nbformat_minor": 2
}
