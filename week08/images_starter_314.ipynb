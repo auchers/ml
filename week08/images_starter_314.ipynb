{
 "cells": [
  {
   "cell_type": "code",
   "execution_count": 1,
   "metadata": {
    "collapsed": true
   },
   "outputs": [],
   "source": [
    "import numpy as np\n",
    "import pandas as pd\n",
    "import matplotlib.pyplot as plt\n",
    "import pickle\n",
    "from skimage import io, color, img_as_bool, exposure, transform, feature\n",
    "%matplotlib inline"
   ]
  },
  {
   "cell_type": "code",
   "execution_count": 2,
   "metadata": {
    "collapsed": true
   },
   "outputs": [],
   "source": [
    "# file paths\n",
    "ci_path = '/Users/aucherserr/Desktop/MachineLearning/myGit/ml/mlAssignment2/plane_data/cropped_images_18/'\n",
    "l_file = '/Users/aucherserr/Desktop/MachineLearning/myGit/ml/mlAssignment2/plane_data/plane_labels_2018.csv'\n",
    "sandbox = '/Users/aucherserr/Desktop/MachineLearning/myGit/ml/mlAssignment2/sandbox/'"
   ]
  },
  {
   "cell_type": "code",
   "execution_count": 3,
   "metadata": {},
   "outputs": [
    {
     "name": "stdout",
     "output_type": "stream",
     "text": [
      "                   img_name  plane\n",
      "0  2016-08-02T13+50+24_430Z  False\n",
      "1  2016-08-02T14+12+37_390Z  False\n",
      "2  2016-08-02T22+20+26_600Z  False\n",
      "3  2016-08-03T12+04+30_670Z  False\n",
      "4  2016-08-03T12+32+21_790Z  False\n",
      "(6758, 2)\n"
     ]
    }
   ],
   "source": [
    "# all labels\n",
    "plane_data = pd.read_csv(l_file)\n",
    "print(plane_data.head())\n",
    "print(plane_data.shape)"
   ]
  },
  {
   "cell_type": "code",
   "execution_count": 4,
   "metadata": {},
   "outputs": [
    {
     "name": "stdout",
     "output_type": "stream",
     "text": [
      "101\n",
      "(101, 2)\n"
     ]
    }
   ],
   "source": [
    "# filter to include only the airplane images\n",
    "print(plane_data['plane'].sum())\n",
    "aircraft = plane_data[plane_data['plane']==True]\n",
    "print(aircraft.shape)"
   ]
  },
  {
   "cell_type": "code",
   "execution_count": 5,
   "metadata": {},
   "outputs": [
    {
     "name": "stdout",
     "output_type": "stream",
     "text": [
      "(20, 2)\n"
     ]
    }
   ],
   "source": [
    "# take a random subset of 20 of the airplane images\n",
    "aircraft_subset = aircraft.sample(20)\n",
    "print(aircraft_subset.shape)"
   ]
  },
  {
   "cell_type": "code",
   "execution_count": 6,
   "metadata": {},
   "outputs": [
    {
     "name": "stdout",
     "output_type": "stream",
     "text": [
      "(60, 140)\n",
      "[[ 0.14372196  0.14372196  0.14764353 ...,  0.16609765  0.16609765\n",
      "   0.16609765]\n",
      " [ 0.14372196  0.14372196  0.14764353 ...,  0.16609765  0.16609765\n",
      "   0.16609765]\n",
      " [ 0.14372196  0.14372196  0.14764353 ...,  0.16609765  0.16609765\n",
      "   0.16609765]\n",
      " ..., \n",
      " [ 0.30263098  0.29086627  0.27910157 ...,  0.39282706  0.3953498\n",
      "   0.3953498 ]\n",
      " [ 0.3379251   0.33400353  0.33008196 ...,  0.37321922  0.37574196\n",
      "   0.37574196]\n",
      " [ 0.39282706  0.39282706  0.39282706 ...,  0.36537608  0.36537608\n",
      "   0.36537608]]\n"
     ]
    },
    {
     "name": "stderr",
     "output_type": "stream",
     "text": [
      "/anaconda3/lib/python3.6/site-packages/skimage/util/dtype.py:122: UserWarning: Possible precision loss when converting from uint8 to bool\n",
      "  .format(dtypeobj_in, dtypeobj_out))\n"
     ]
    }
   ],
   "source": [
    "# for each of the subset images, alter them and view the alterations\n",
    "f = open(sandbox + \"view_images.html\",\"w\") \n",
    "first_image = False\n",
    "\n",
    "for index, row in aircraft_subset.iterrows():\n",
    "    imname = ci_path + row['img_name'] + '.png'\n",
    "    img_raw = io.imread(imname)\n",
    "    final_image = img_as_bool(img_raw) \n",
    "    final_image = color.rgb2gray(img_raw)\n",
    "    im = sandbox + row['img_name'] + '.png'\n",
    "    plt.imsave(im, final_image)\n",
    "    if first_image==False:\n",
    "        print(final_image.shape)\n",
    "        print(final_image)\n",
    "        first_image = True\n",
    "    f.write(\"<img src='\" + row['img_name'] + \".png' width='320'>\\n\")\n",
    "\n",
    "f.close() \n"
   ]
  },
  {
   "cell_type": "code",
   "execution_count": null,
   "metadata": {
    "collapsed": true
   },
   "outputs": [],
   "source": []
  }
 ],
 "metadata": {
  "kernelspec": {
   "display_name": "Python 3",
   "language": "python",
   "name": "python3"
  },
  "language_info": {
   "codemirror_mode": {
    "name": "ipython",
    "version": 3
   },
   "file_extension": ".py",
   "mimetype": "text/x-python",
   "name": "python",
   "nbconvert_exporter": "python",
   "pygments_lexer": "ipython3",
   "version": "3.6.3"
  }
 },
 "nbformat": 4,
 "nbformat_minor": 2
}
