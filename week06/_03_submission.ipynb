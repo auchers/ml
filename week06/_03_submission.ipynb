{
 "cells": [
  {
   "cell_type": "markdown",
   "metadata": {
    "toc": true
   },
   "source": [
    "<h1>Table of Contents<span class=\"tocSkip\"></span></h1>\n",
    "<div class=\"toc\"><ul class=\"toc-item\"><li><span><a href=\"#Read-raw-test-data\" data-toc-modified-id=\"Read-raw-test-data-1\"><span class=\"toc-item-num\">1&nbsp;&nbsp;</span>Read raw test data</a></span></li><li><span><a href=\"#create-X,-feature-extractions-on-natural-language-data\" data-toc-modified-id=\"create-X,-feature-extractions-on-natural-language-data-2\"><span class=\"toc-item-num\">2&nbsp;&nbsp;</span>create X, feature extractions on natural language data</a></span></li><li><span><a href=\"#create-y,-vector-of-Labels\" data-toc-modified-id=\"create-y,-vector-of-Labels-3\"><span class=\"toc-item-num\">3&nbsp;&nbsp;</span>create <code>y</code>, vector of Labels</a></span></li><li><span><a href=\"#predict-y-with-the-fit-on-the-training-set\" data-toc-modified-id=\"predict-y-with-the-fit-on-the-training-set-4\"><span class=\"toc-item-num\">4&nbsp;&nbsp;</span>predict <code>y</code> with the fit on the training set</a></span></li><li><span><a href=\"#ROC-plot-to-compare-performance-of-various-models-and-fits\" data-toc-modified-id=\"ROC-plot-to-compare-performance-of-various-models-and-fits-5\"><span class=\"toc-item-num\">5&nbsp;&nbsp;</span>ROC plot to compare performance of various models and fits</a></span></li></ul></div>"
   ]
  },
  {
   "cell_type": "markdown",
   "metadata": {},
   "source": [
    "# Submission 1, ML Assignment 1"
   ]
  },
  {
   "cell_type": "code",
   "execution_count": 1,
   "metadata": {
    "collapsed": true
   },
   "outputs": [],
   "source": [
    "import numpy as np\n",
    "import pandas as pd\n",
    "import matplotlib.pyplot as plt\n",
    "from sklearn.externals import joblib\n",
    "from my_measures import BinaryClassificationPerformance\n",
    "%matplotlib inline"
   ]
  },
  {
   "cell_type": "markdown",
   "metadata": {},
   "source": [
    "### Read raw test data"
   ]
  },
  {
   "cell_type": "code",
   "execution_count": 2,
   "metadata": {},
   "outputs": [
    {
     "name": "stdout",
     "output_type": "stream",
     "text": [
      "(91000, 14)\n"
     ]
    }
   ],
   "source": [
    "amazon = pd.read_csv('../../../data/amazon_data/raw_data_test.csv')\n",
    "print(amazon.shape)"
   ]
  },
  {
   "cell_type": "code",
   "execution_count": 3,
   "metadata": {},
   "outputs": [
    {
     "name": "stdout",
     "output_type": "stream",
     "text": [
      "   Unnamed: 0  Unnamed: 0.1      Id   ProductId          UserId  \\\n",
      "0      147718        546145  546146  B001AZ2UYI   AR4KQLKL8VJO4   \n",
      "1      223621        478031  478032  B000WZZVI4  A2TIETTFZ3YYAU   \n",
      "2      447075        348609  348610  B000E46GFA  A1GGO0VNCBFA0D   \n",
      "3        9239        319904  319905  B0018QIPS4   A61OLW5P65ZK5   \n",
      "4      424940        494951  494952  B00271OPVU  A37DKONQP3RMJO   \n",
      "\n",
      "                       ProfileName  HelpfulnessNumerator  \\\n",
      "0                       W. Maxwell                    14   \n",
      "1  Donna Toy \"Foot comfort expert\"                    10   \n",
      "2                Karen M. Szymarek                     2   \n",
      "3                         Khaleesi                     0   \n",
      "4                    mytripletboys                     0   \n",
      "\n",
      "   HelpfulnessDenominator  Score        Time  \\\n",
      "0                      15      5  1261785600   \n",
      "1                      10      5  1201478400   \n",
      "2                       2      5  1279929600   \n",
      "3                       1      1  1338336000   \n",
      "4                       0      5  1298505600   \n",
      "\n",
      "                                Summary  \\\n",
      "0                          Heavenly Oil   \n",
      "1  Great product, but don't buy it here   \n",
      "2                     Tasty and Healthy   \n",
      "3  Does NOT taste like durian at all!!!   \n",
      "4                      Love this syrup!   \n",
      "\n",
      "                                                Text  helpScore helpful  \n",
      "0  A chance introduction to Savini Tartufi White ...   0.933333    True  \n",
      "1  I have no complaints with the product. But don...   1.000000    True  \n",
      "2  My son is on a Gluten Free diet and finding go...   1.000000   False  \n",
      "3  I was so excited for durian chips because I lo...   0.000000   False  \n",
      "4  I love everything about this syrup. I think I ...        NaN   False  \n",
      "0.0737142857143\n"
     ]
    }
   ],
   "source": [
    "print(amazon.head())\n",
    "print(amazon['helpful'].mean())"
   ]
  },
  {
   "cell_type": "markdown",
   "metadata": {},
   "source": [
    "### create X, feature extractions on natural language data"
   ]
  },
  {
   "cell_type": "code",
   "execution_count": 3,
   "metadata": {
    "collapsed": true
   },
   "outputs": [],
   "source": [
    "import sys\n",
    "sys.path.append('./')\n",
    "from featuresPreparation import AmazonReviewFeaturePrep\n",
    "featurePreparer = AmazonReviewFeaturePrep(amazon)"
   ]
  },
  {
   "cell_type": "code",
   "execution_count": 4,
   "metadata": {},
   "outputs": [
    {
     "data": {
      "text/plain": [
       "(91000, 14)"
      ]
     },
     "execution_count": 4,
     "metadata": {},
     "output_type": "execute_result"
    }
   ],
   "source": [
    "featurePreparer.rawData.shape"
   ]
  },
  {
   "cell_type": "code",
   "execution_count": 5,
   "metadata": {},
   "outputs": [
    {
     "name": "stdout",
     "output_type": "stream",
     "text": [
      "starting to prepare features\n"
     ]
    },
    {
     "name": "stderr",
     "output_type": "stream",
     "text": [
      "/Library/Frameworks/Python.framework/Versions/3.5/lib/python3.5/site-packages/sklearn/feature_extraction/hashing.py:94: DeprecationWarning: the option non_negative=True has been deprecated in 0.19 and will be removed in version 0.21.\n",
      "  \" in version 0.21.\", DeprecationWarning)\n"
     ]
    },
    {
     "name": "stdout",
     "output_type": "stream",
     "text": [
      "finished applying hash vectorizor\n",
      "finished applying tfidf\n",
      "starting quant features\n",
      "starting product aggregates\n",
      "finished product aggregates\n",
      "finished quant features\n",
      "scale applied\n",
      "finished preparing test features\n"
     ]
    }
   ],
   "source": [
    "featurePreparer.prepare_all_features_test()"
   ]
  },
  {
   "cell_type": "code",
   "execution_count": 6,
   "metadata": {},
   "outputs": [
    {
     "data": {
      "text/plain": [
       "(91000, 131077)"
      ]
     },
     "execution_count": 6,
     "metadata": {},
     "output_type": "execute_result"
    }
   ],
   "source": [
    "X = featurePreparer.X\n",
    "X.shape"
   ]
  },
  {
   "cell_type": "markdown",
   "metadata": {},
   "source": [
    "### create `y`, vector of Labels"
   ]
  },
  {
   "cell_type": "code",
   "execution_count": 7,
   "metadata": {},
   "outputs": [
    {
     "name": "stdout",
     "output_type": "stream",
     "text": [
      "<class 'numpy.ndarray'>\n"
     ]
    }
   ],
   "source": [
    "y = amazon['helpful'].values\n",
    "print(type(y))"
   ]
  },
  {
   "cell_type": "markdown",
   "metadata": {},
   "source": [
    "### predict `y` with the fit on the training set"
   ]
  },
  {
   "cell_type": "code",
   "execution_count": 8,
   "metadata": {},
   "outputs": [
    {
     "name": "stdout",
     "output_type": "stream",
     "text": [
      "{'Neg': 84292, 'Recall': 0.39057841383422781, 'Pos': 6708, 'Precision': 0.17864448384017456, 'FP': 12046, 'TN': 72246, 'TP': 2620, 'FN': 4088, 'Accuracy': 0.82270329670329667, 'desc': 'nbs'}\n"
     ]
    }
   ],
   "source": [
    "# MODEL: Naive Bayes\n",
    "# from sklearn.naive_bayes import MultinomialNB\n",
    "# nbs = MultinomialNB()\n",
    "# nbs.fit(X, y)\n",
    "# joblib.dump(nbs, 'nbs.pkl') # pickle\n",
    "nbs = joblib.load('nbs.pkl')\n",
    "\n",
    "nbs_performance = BinaryClassificationPerformance(nbs.predict(X), y, 'nbs')\n",
    "nbs_performance.compute_measures()\n",
    "print(nbs_performance.performance_measures)"
   ]
  },
  {
   "cell_type": "code",
   "execution_count": 12,
   "metadata": {},
   "outputs": [],
   "source": [
    "fit = nbs.predict(X)"
   ]
  },
  {
   "cell_type": "code",
   "execution_count": 14,
   "metadata": {},
   "outputs": [
    {
     "data": {
      "text/plain": [
       "(91000,)"
      ]
     },
     "execution_count": 14,
     "metadata": {},
     "output_type": "execute_result"
    }
   ],
   "source": [
    "data_with_fit = amazon"
   ]
  },
  {
   "cell_type": "markdown",
   "metadata": {},
   "source": [
    "previous results (for reference): {'Pos': 6653, 'Neg': 84347, 'TP': 990, 'TN': 82920, 'FP': 1427, 'FN': 5663, 'Accuracy': 0.92208791208791208, 'Precision': 0.40959867604468347, 'Recall': 0.14880505035322411, 'desc': 'rdg'}"
   ]
  },
  {
   "cell_type": "markdown",
   "metadata": {},
   "source": [
    "### ROC plot to compare performance of various models and fits"
   ]
  },
  {
   "cell_type": "code",
   "execution_count": 12,
   "metadata": {},
   "outputs": [
    {
     "data": {
      "image/png": "[encoded data removed]",
      "text/plain": [
       "<matplotlib.figure.Figure at 0x10ff9a550>"
      ]
     },
     "metadata": {},
     "output_type": "display_data"
    }
   ],
   "source": [
    "fits = [nbs_performance]\n",
    "\n",
    "for fit in fits:\n",
    "    plt.plot(fit.performance_measures['FP'] / fit.performance_measures['Neg'], \n",
    "             fit.performance_measures['TP'] / fit.performance_measures['Pos'], 'bo')\n",
    "    plt.text(fit.performance_measures['FP'] / fit.performance_measures['Neg'], \n",
    "             fit.performance_measures['TP'] / fit.performance_measures['Pos'], fit.desc)\n",
    "plt.axis([0, 1, 0, 1])\n",
    "plt.title('ROC plot: test set')\n",
    "plt.xlabel('False positive rate')\n",
    "plt.ylabel('True positive rate')\n",
    "plt.show()"
   ]
  },
  {
   "cell_type": "code",
   "execution_count": null,
   "metadata": {
    "collapsed": true
   },
   "outputs": [],
   "source": []
  }
 ],
 "metadata": {
  "kernelspec": {
   "display_name": "Python 3",
   "language": "python",
   "name": "python3"
  },
  "language_info": {
   "codemirror_mode": {
    "name": "ipython",
    "version": 3
   },
   "file_extension": ".py",
   "mimetype": "text/x-python",
   "name": "python",
   "nbconvert_exporter": "python",
   "pygments_lexer": "ipython3",
   "version": "3.6.3"
  },
  "toc": {
   "nav_menu": {},
   "number_sections": true,
   "sideBar": true,
   "skip_h1_title": true,
   "title_cell": "Table of Contents",
   "title_sidebar": "Contents",
   "toc_cell": true,
   "toc_position": {},
   "toc_section_display": true,
   "toc_window_display": false
  }
 },
 "nbformat": 4,
 "nbformat_minor": 1
}
