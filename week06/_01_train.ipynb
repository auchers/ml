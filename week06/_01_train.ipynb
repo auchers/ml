{
 "cells": [
  {
   "cell_type": "markdown",
   "metadata": {
    "deletable": true,
    "editable": true
   },
   "source": [
    "# Training Set"
   ]
  },
  {
   "cell_type": "code",
   "execution_count": 2,
   "metadata": {
    "collapsed": true,
    "deletable": true,
    "editable": true
   },
   "outputs": [],
   "source": [
    "import numpy as np\n",
    "import pandas as pd\n",
    "import matplotlib.pyplot as plt\n",
    "from sklearn.externals import joblib\n",
    "%matplotlib inline"
   ]
  },
  {
   "cell_type": "markdown",
   "metadata": {
    "deletable": true,
    "editable": true
   },
   "source": [
    "### Read raw training data"
   ]
  },
  {
   "cell_type": "code",
<<<<<<< HEAD
   "execution_count": 7,
=======
   "execution_count": 2,
>>>>>>> 5491fa89e95f3c006c1384dd6482d530b30342ed
   "metadata": {
    "collapsed": false,
    "deletable": true,
    "editable": true
   },
   "outputs": [
    {
     "name": "stdout",
     "output_type": "stream",
     "text": [
      "(364000, 14)\n",
      "['Unnamed: 0', 'Unnamed: 0.1', 'Id', 'ProductId', 'UserId', 'ProfileName', 'HelpfulnessNumerator', 'HelpfulnessDenominator', 'Score', 'Time', 'Summary', 'Text', 'helpScore', 'helpful']\n"
     ]
    }
   ],
   "source": [
    "amazon = pd.read_csv('../../../data/amazon_data/raw_data_train.csv')\n",
    "print(amazon.shape)\n",
    "\n",
    "#noticed here that we gained a column -- looking at what it is\n",
    "print(list(amazon)) # got another unnamed column (some sort of index?)"
   ]
  },
  {
   "cell_type": "code",
   "execution_count": 13,
   "metadata": {
    "collapsed": true,
    "deletable": true,
    "editable": true
   },
   "outputs": [
    {
     "name": "stdout",
     "output_type": "stream",
     "text": [
      "   Unnamed: 0  Unnamed: 0.1      Id   ProductId          UserId  \\\n",
      "0      325101        150237  150238  B001STX13U  A25KKXUQQ0OLWB   \n",
      "1      376619        213859  213860  B0000DCXCM  A1NCFPKB690L3G   \n",
      "2      244837        385642  385643  B007FRCNCE  A2EG7IWLQIXQMX   \n",
      "3      270468        102738  102739  B002L96X68   AAUICTIUBVU7R   \n",
      "4       42280        313513  313514  B000FNJ69S  A3S62P7QTO4P8V   \n",
      "\n",
      "                          ProfileName  HelpfulnessNumerator  \\\n",
      "0  Lynn Ellingwood \"The ESOL Teacher\"                    10   \n",
      "1                       Anna R. Brown                     1   \n",
      "2   Zachariah Green \"Zachariah Green\"                     2   \n",
      "3               Roy Berger \"Everyman\"                     0   \n",
      "4            Chad Susott \"Sparty DDS\"                     3   \n",
      "\n",
      "   HelpfulnessDenominator  Score        Time                  Summary  \\\n",
      "0                      10      5  1282348800  My Cats' Favorite Food!   \n",
      "1                       2      1  1267920000                Too salty   \n",
      "2                       2      5  1300320000               Great Tea!   \n",
      "3                       0      5  1341446400   YUM, YUM, YUM TERRIFIC   \n",
      "4                       4      5  1283040000         Great with Sushi   \n",
      "\n",
      "                                                Text  helpScore helpful  \n",
      "0  When this food came out, my cats went crazy th...       1.00    True  \n",
      "1  The almonds in this mix were great - crunchy w...       0.50   False  \n",
      "2  This is one of my favorites... Most relaxing t...       1.00   False  \n",
      "3  Great flavor and plenty of it! It's like eatin...        NaN   False  \n",
      "4  I'm not a wasabi connoisseur by any means but ...       0.75   False  \n",
      "0.0728763736264\n"
     ]
    }
   ],
   "source": [
    "print(amazon.head())\n",
    "print(amazon['helpful'].mean())"
   ]
  },
  {
   "cell_type": "markdown",
   "metadata": {
    "deletable": true,
    "editable": true
   },
   "source": [
<<<<<<< HEAD
    "### Feature Creation1: ProductID Aggregates\n",
    "Minimum 'Time' and Number of Reviews per 'ProductId'"
=======
    "### Attempt to Use FeaturePrep Module to prepare features\n"
>>>>>>> 5491fa89e95f3c006c1384dd6482d530b30342ed
   ]
  },
  {
   "cell_type": "code",
<<<<<<< HEAD
   "execution_count": 57,
   "metadata": {
    "collapsed": true,
    "deletable": true,
    "editable": true
   },
   "outputs": [
    {
     "name": "stdout",
     "output_type": "stream",
     "text": [
      "ProductId\n",
      "0006641040     939340800\n",
      "141278509X    1332547200\n",
      "2734888454    1192060800\n",
      "7310172001    1104796800\n",
      "7310172101    1104796800\n",
      "Name: Time, dtype: int64\n",
      "ProductId\n",
      "0006641040     28\n",
      "141278509X      1\n",
      "2734888454      1\n",
      "7310172001    107\n",
      "7310172101    118\n",
      "Name: Id, dtype: int64\n"
     ]
    }
   ],
   "source": [
    "# ATTEMPT 1: get product groupings\n",
    "\n",
    "# #First need to find the first review date for each product id\n",
    "# productGrouped = amazon.groupby(['ProductId'])\n",
    "\n",
    "\n",
    "# ## first time per productid\n",
    "# minTimePerProduct = productGrouped['Time'].min()\n",
    "# print(minTimePerProduct.head())\n",
    "\n",
    "# ## number of reviews per product id\n",
    "# numReviewsPerProduct = productGrouped['Id'].count()\n",
    "# print(numReviewsPerProduct.head())"
   ]
  },
  {
   "cell_type": "code",
   "execution_count": 8,
   "metadata": {
    "collapsed": false,
    "deletable": true,
    "editable": true
   },
   "outputs": [],
   "source": [
    "# # another attempt at groupby aggregations -- MOVED TO MODULE\n",
    "# aggregations = {\n",
    "#     'Time': 'min',\n",
    "#     'Id': \"count\"\n",
    "# }\n",
    "\n",
    "# # as_index = False to ensure that we have the 'ProductId' column to join on later\n",
    "# productGrouped = amazon.groupby(['ProductId'], as_index= False).agg(aggregations)"
   ]
  },
  {
   "cell_type": "code",
   "execution_count": 9,
   "metadata": {
    "collapsed": true,
    "deletable": true,
    "editable": true
   },
   "outputs": [],
   "source": [
    "# # rename columns\n",
    "# productGrouped = productGrouped.rename(columns={\"Time\": \"minTimePerProduct\",\n",
    "#                                                 'Id': 'numReviewsPerProduct'})"
   ]
  },
  {
   "cell_type": "code",
   "execution_count": 10,
   "metadata": {
    "collapsed": false,
    "deletable": true,
    "editable": true
   },
   "outputs": [],
   "source": [
    "# # join aggregates back to original data\n",
    "\n",
    "# # check to make sure didn't lose any data in join\n",
    "# pd.merge(amazon, productGrouped, how = 'left', on = ['ProductId']).shape\n",
    "\n",
    "# # add merged values to original data\n",
    "# amazon = pd.merge(amazon, productGrouped, how = 'left', on = ['ProductId'])"
=======
   "execution_count": 3,
   "metadata": {
    "collapsed": false
   },
   "outputs": [],
   "source": [
    "# try out new module\n",
    "from featuresPreparation import AmazonReviewFeaturePrep\n",
    "# moduleDataTest = pd.read_csv('../../../data/amazon_data/raw_data_train.csv')"
>>>>>>> 5491fa89e95f3c006c1384dd6482d530b30342ed
   ]
  },
  {
   "cell_type": "code",
<<<<<<< HEAD
   "execution_count": 93,
   "metadata": {
    "collapsed": true,
    "deletable": true,
    "editable": true
=======
   "execution_count": 4,
   "metadata": {
    "collapsed": false
>>>>>>> 5491fa89e95f3c006c1384dd6482d530b30342ed
   },
   "outputs": [
    {
     "data": {
<<<<<<< HEAD
      "text/html": [
       "<div>\n",
       "<table border=\"1\" class=\"dataframe\">\n",
       "  <thead>\n",
       "    <tr style=\"text-align: right;\">\n",
       "      <th></th>\n",
       "      <th>ProductId</th>\n",
       "      <th>Time</th>\n",
       "    </tr>\n",
       "  </thead>\n",
       "  <tbody>\n",
       "    <tr>\n",
       "      <th>173465</th>\n",
       "      <td>B001STX13U</td>\n",
       "      <td>1281139200</td>\n",
       "    </tr>\n",
       "    <tr>\n",
       "      <th>0</th>\n",
       "      <td>B001STX13U</td>\n",
       "      <td>1282348800</td>\n",
       "    </tr>\n",
       "    <tr>\n",
       "      <th>311307</th>\n",
       "      <td>B001STX13U</td>\n",
       "      <td>1285372800</td>\n",
       "    </tr>\n",
       "    <tr>\n",
       "      <th>316493</th>\n",
       "      <td>B001STX13U</td>\n",
       "      <td>1306972800</td>\n",
       "    </tr>\n",
       "    <tr>\n",
       "      <th>347088</th>\n",
       "      <td>B001STX13U</td>\n",
       "      <td>1313712000</td>\n",
       "    </tr>\n",
       "    <tr>\n",
       "      <th>125018</th>\n",
       "      <td>B001STX13U</td>\n",
       "      <td>1320364800</td>\n",
       "    </tr>\n",
       "    <tr>\n",
       "      <th>45067</th>\n",
       "      <td>B001STX13U</td>\n",
       "      <td>1320364800</td>\n",
       "    </tr>\n",
       "    <tr>\n",
       "      <th>182736</th>\n",
       "      <td>B001STX13U</td>\n",
       "      <td>1322265600</td>\n",
       "    </tr>\n",
       "    <tr>\n",
       "      <th>43133</th>\n",
       "      <td>B001STX13U</td>\n",
       "      <td>1323993600</td>\n",
       "    </tr>\n",
       "    <tr>\n",
       "      <th>239698</th>\n",
       "      <td>B001STX13U</td>\n",
       "      <td>1324425600</td>\n",
       "    </tr>\n",
       "    <tr>\n",
       "      <th>189628</th>\n",
       "      <td>B001STX13U</td>\n",
       "      <td>1327017600</td>\n",
       "    </tr>\n",
       "    <tr>\n",
       "      <th>207186</th>\n",
       "      <td>B001STX13U</td>\n",
       "      <td>1328140800</td>\n",
       "    </tr>\n",
       "    <tr>\n",
       "      <th>139691</th>\n",
       "      <td>B001STX13U</td>\n",
       "      <td>1329436800</td>\n",
       "    </tr>\n",
       "    <tr>\n",
       "      <th>204128</th>\n",
       "      <td>B001STX13U</td>\n",
       "      <td>1330560000</td>\n",
       "    </tr>\n",
       "    <tr>\n",
       "      <th>40346</th>\n",
       "      <td>B001STX13U</td>\n",
       "      <td>1333152000</td>\n",
       "    </tr>\n",
       "    <tr>\n",
       "      <th>211821</th>\n",
       "      <td>B001STX13U</td>\n",
       "      <td>1334534400</td>\n",
       "    </tr>\n",
       "    <tr>\n",
       "      <th>307088</th>\n",
       "      <td>B001STX13U</td>\n",
       "      <td>1335484800</td>\n",
       "    </tr>\n",
       "    <tr>\n",
       "      <th>89232</th>\n",
       "      <td>B001STX13U</td>\n",
       "      <td>1335571200</td>\n",
       "    </tr>\n",
       "    <tr>\n",
       "      <th>275789</th>\n",
       "      <td>B001STX13U</td>\n",
       "      <td>1335830400</td>\n",
       "    </tr>\n",
       "    <tr>\n",
       "      <th>220805</th>\n",
       "      <td>B001STX13U</td>\n",
       "      <td>1342310400</td>\n",
       "    </tr>\n",
       "    <tr>\n",
       "      <th>264803</th>\n",
       "      <td>B001STX13U</td>\n",
       "      <td>1347062400</td>\n",
       "    </tr>\n",
       "    <tr>\n",
       "      <th>198342</th>\n",
       "      <td>B001STX13U</td>\n",
       "      <td>1347321600</td>\n",
       "    </tr>\n",
       "    <tr>\n",
       "      <th>87693</th>\n",
       "      <td>B001STX13U</td>\n",
       "      <td>1349395200</td>\n",
       "    </tr>\n",
       "    <tr>\n",
       "      <th>177709</th>\n",
       "      <td>B001STX13U</td>\n",
       "      <td>1350950400</td>\n",
       "    </tr>\n",
       "  </tbody>\n",
       "</table>\n",
       "</div>"
      ],
      "text/plain": [
       "         ProductId        Time\n",
       "173465  B001STX13U  1281139200\n",
       "0       B001STX13U  1282348800\n",
       "311307  B001STX13U  1285372800\n",
       "316493  B001STX13U  1306972800\n",
       "347088  B001STX13U  1313712000\n",
       "125018  B001STX13U  1320364800\n",
       "45067   B001STX13U  1320364800\n",
       "182736  B001STX13U  1322265600\n",
       "43133   B001STX13U  1323993600\n",
       "239698  B001STX13U  1324425600\n",
       "189628  B001STX13U  1327017600\n",
       "207186  B001STX13U  1328140800\n",
       "139691  B001STX13U  1329436800\n",
       "204128  B001STX13U  1330560000\n",
       "40346   B001STX13U  1333152000\n",
       "211821  B001STX13U  1334534400\n",
       "307088  B001STX13U  1335484800\n",
       "89232   B001STX13U  1335571200\n",
       "275789  B001STX13U  1335830400\n",
       "220805  B001STX13U  1342310400\n",
       "264803  B001STX13U  1347062400\n",
       "198342  B001STX13U  1347321600\n",
       "87693   B001STX13U  1349395200\n",
       "177709  B001STX13U  1350950400"
      ]
     },
     "execution_count": 93,
=======
      "text/plain": [
       "(364000, 14)"
      ]
     },
     "execution_count": 4,
>>>>>>> 5491fa89e95f3c006c1384dd6482d530b30342ed
     "metadata": {},
     "output_type": "execute_result"
    }
   ],
   "source": [
<<<<<<< HEAD
    "# # check specitic product to make sure the date makes sense\n",
    "# amazon[amazon['ProductId'] == 'B001STX13U'][['ProductId','Time']].sort_values('Time')"
=======
    "featurePrepTest = amazon\n",
    "featurePrepTest.shape"
>>>>>>> 5491fa89e95f3c006c1384dd6482d530b30342ed
   ]
  },
  {
   "cell_type": "code",
<<<<<<< HEAD
   "execution_count": 16,
   "metadata": {
    "collapsed": false
   },
   "outputs": [],
   "source": [
    "# try out new module\n",
    "\n",
    "from featuresPreparation import AmazonReviewFeaturePrep\n",
    "amazon2 = pd.read_csv('../../../data/amazon_data/raw_data_train.csv')"
=======
   "execution_count": 5,
   "metadata": {
    "collapsed": true
   },
   "outputs": [],
   "source": [
    "featurePreparer = AmazonReviewFeaturePrep(featurePrepTest)"
>>>>>>> 5491fa89e95f3c006c1384dd6482d530b30342ed
   ]
  },
  {
   "cell_type": "code",
<<<<<<< HEAD
   "execution_count": 4,
=======
   "execution_count": 6,
>>>>>>> 5491fa89e95f3c006c1384dd6482d530b30342ed
   "metadata": {
    "collapsed": false
   },
   "outputs": [
    {
<<<<<<< HEAD
     "data": {
      "text/plain": [
       "(364000, 14)"
      ]
     },
     "execution_count": 4,
     "metadata": {},
     "output_type": "execute_result"
    }
   ],
   "source": [
    "amazon2.shape"
   ]
  },
  {
   "cell_type": "code",
   "execution_count": 17,
   "metadata": {
    "collapsed": false
   },
   "outputs": [],
   "source": [
    "testData = AmazonReviewFeaturePrep(amazon2)\n"
=======
     "name": "stdout",
     "output_type": "stream",
     "text": [
      "(364000, 14)\n",
      "False\n"
     ]
    }
   ],
   "source": [
    "print(featurePreparer.rawData.shape)\n",
    "print(featurePreparer.X)\n"
>>>>>>> 5491fa89e95f3c006c1384dd6482d530b30342ed
   ]
  },
  {
   "cell_type": "code",
<<<<<<< HEAD
   "execution_count": 18,
   "metadata": {
    "collapsed": false
   },
   "outputs": [],
   "source": [
    "testData.compute_all_features()\n",
    "amazon2 = testData.data"
=======
   "execution_count": 7,
   "metadata": {
    "collapsed": false
   },
   "outputs": [
    {
     "name": "stdout",
     "output_type": "stream",
     "text": [
      "starting tfidf\n",
      "starting Hash Vectorizor\n"
     ]
    },
    {
     "name": "stderr",
     "output_type": "stream",
     "text": [
      "/Library/Frameworks/Python.framework/Versions/3.5/lib/python3.5/site-packages/sklearn/feature_extraction/hashing.py:94: DeprecationWarning: the option non_negative=True has been deprecated in 0.19 and will be removed in version 0.21.\n",
      "  \" in version 0.21.\", DeprecationWarning)\n",
      "/Library/Frameworks/Python.framework/Versions/3.5/lib/python3.5/site-packages/sklearn/feature_extraction/hashing.py:94: DeprecationWarning: the option non_negative=True has been deprecated in 0.19 and will be removed in version 0.21.\n",
      "  \" in version 0.21.\", DeprecationWarning)\n"
     ]
    },
    {
     "name": "stdout",
     "output_type": "stream",
     "text": [
      "hv.pkl saved\n",
      "transformer.pkl saved\n",
      "starting quant features\n",
      "starting product aggregates\n",
      "finished product aggregates\n",
      "finished quant features\n",
      "starting matrix scaling\n",
      "sc.pkl saved\n",
      "finished computing all features\n"
     ]
    }
   ],
   "source": [
    "featurePreparer.compute_all_features_train()\n"
>>>>>>> 5491fa89e95f3c006c1384dd6482d530b30342ed
   ]
  },
  {
   "cell_type": "code",
<<<<<<< HEAD
   "execution_count": 19,
   "metadata": {
    "collapsed": false
   },
   "outputs": [
    {
     "data": {
      "text/plain": [
       "['Unnamed: 0',\n",
       " 'Unnamed: 0.1',\n",
       " 'Id',\n",
       " 'ProductId',\n",
       " 'UserId',\n",
       " 'ProfileName',\n",
       " 'HelpfulnessNumerator',\n",
       " 'HelpfulnessDenominator',\n",
       " 'Score',\n",
       " 'Time',\n",
       " 'Summary',\n",
       " 'Text',\n",
       " 'helpScore',\n",
       " 'helpful',\n",
       " 'minTimePerProduct',\n",
       " 'numReviewsPerProduct']"
      ]
     },
     "execution_count": 19,
     "metadata": {},
     "output_type": "execute_result"
    }
   ],
   "source": [
    "list(amazon2)"
   ]
  },
  {
   "cell_type": "markdown",
   "metadata": {
    "deletable": true,
    "editable": true
   },
   "source": [
    "### Attempt to Use FeaturePrep Module to prepare features\n"
   ]
  },
  {
   "cell_type": "code",
   "execution_count": 3,
   "metadata": {
    "collapsed": false
   },
   "outputs": [],
   "source": [
    "# try out new module\n",
    "from featuresPreparation import AmazonReviewFeaturePrep\n",
    "# moduleDataTest = pd.read_csv('../../../data/amazon_data/raw_data_train.csv')"
   ]
  },
  {
   "cell_type": "code",
   "execution_count": 4,
   "metadata": {
    "collapsed": false
   },
   "outputs": [
    {
     "data": {
      "text/plain": [
       "(364000, 14)"
      ]
     },
     "execution_count": 4,
     "metadata": {},
     "output_type": "execute_result"
    }
   ],
   "source": [
    "featurePrepTest = amazon\n",
    "featurePrepTest.shape"
   ]
  },
  {
   "cell_type": "code",
   "execution_count": 5,
=======
   "execution_count": 8,
>>>>>>> 5491fa89e95f3c006c1384dd6482d530b30342ed
   "metadata": {
    "collapsed": true
   },
   "outputs": [],
   "source": [
<<<<<<< HEAD
    "featurePreparer = AmazonReviewFeaturePrep(featurePrepTest)"
   ]
  },
  {
   "cell_type": "code",
   "execution_count": 6,
   "metadata": {
    "collapsed": false
   },
   "outputs": [
    {
     "name": "stdout",
     "output_type": "stream",
     "text": [
      "(364000, 14)\n",
      "False\n"
     ]
    }
   ],
   "source": [
    "print(featurePreparer.rawData.shape)\n",
    "print(featurePreparer.X)\n"
   ]
  },
  {
   "cell_type": "code",
   "execution_count": 7,
   "metadata": {
    "collapsed": false
   },
   "outputs": [
    {
     "name": "stdout",
     "output_type": "stream",
     "text": [
      "starting tfidf\n",
      "starting Hash Vectorizor\n"
     ]
    },
    {
     "name": "stderr",
     "output_type": "stream",
     "text": [
      "/Library/Frameworks/Python.framework/Versions/3.5/lib/python3.5/site-packages/sklearn/feature_extraction/hashing.py:94: DeprecationWarning: the option non_negative=True has been deprecated in 0.19 and will be removed in version 0.21.\n",
      "  \" in version 0.21.\", DeprecationWarning)\n",
      "/Library/Frameworks/Python.framework/Versions/3.5/lib/python3.5/site-packages/sklearn/feature_extraction/hashing.py:94: DeprecationWarning: the option non_negative=True has been deprecated in 0.19 and will be removed in version 0.21.\n",
      "  \" in version 0.21.\", DeprecationWarning)\n"
     ]
    },
    {
     "name": "stdout",
     "output_type": "stream",
     "text": [
      "hv.pkl saved\n",
      "transformer.pkl saved\n",
      "starting quant features\n",
      "starting product aggregates\n",
      "finished product aggregates\n",
      "finished quant features\n",
      "starting matrix scaling\n",
      "sc.pkl saved\n",
      "finished computing all features\n"
     ]
    }
   ],
   "source": [
    "featurePreparer.compute_all_features_train()\n"
   ]
  },
  {
   "cell_type": "code",
<<<<<<< HEAD
   "execution_count": 8,
=======
   "execution_count": 4,
>>>>>>> set up featurePrepModule and basic productIdaggregations
   "metadata": {
    "collapsed": true,
    "deletable": true,
    "editable": true
   },
   "outputs": [],
   "source": [
=======
>>>>>>> 5491fa89e95f3c006c1384dd6482d530b30342ed
    "X = featurePreparer.X"
   ]
  },
  {
   "cell_type": "code",
   "execution_count": 9,
   "metadata": {
    "collapsed": false
   },
   "outputs": [
    {
     "data": {
      "text/plain": [
       "(364000, 131077)"
      ]
     },
     "execution_count": 9,
     "metadata": {},
     "output_type": "execute_result"
    }
   ],
   "source": [
    "X.shape"
   ]
  },
  {
   "cell_type": "markdown",
   "metadata": {
    "deletable": true,
    "editable": true
   },
   "source": [
    "### Feature Creation1: ProductID Aggregates\n",
    "Minimum 'Time' and Number of Reviews per 'ProductId'"
   ]
  },
  {
   "cell_type": "code",
   "execution_count": 57,
   "metadata": {
    "collapsed": true,
    "deletable": true,
    "editable": true
   },
   "outputs": [
    {
     "name": "stdout",
     "output_type": "stream",
     "text": [
      "ProductId\n",
      "0006641040     939340800\n",
      "141278509X    1332547200\n",
      "2734888454    1192060800\n",
      "7310172001    1104796800\n",
      "7310172101    1104796800\n",
      "Name: Time, dtype: int64\n",
      "ProductId\n",
      "0006641040     28\n",
      "141278509X      1\n",
      "2734888454      1\n",
      "7310172001    107\n",
      "7310172101    118\n",
      "Name: Id, dtype: int64\n"
     ]
    }
   ],
   "source": [
    "# ATTEMPT 1: get product groupings\n",
    "\n",
    "# #First need to find the first review date for each product id\n",
    "# productGrouped = amazon.groupby(['ProductId'])\n",
    "\n",
    "\n",
    "# ## first time per productid\n",
    "# minTimePerProduct = productGrouped['Time'].min()\n",
    "# print(minTimePerProduct.head())\n",
    "\n",
    "# ## number of reviews per product id\n",
    "# numReviewsPerProduct = productGrouped['Id'].count()\n",
    "# print(numReviewsPerProduct.head())"
   ]
  },
  {
   "cell_type": "code",
   "execution_count": 8,
   "metadata": {
    "collapsed": false,
    "deletable": true,
    "editable": true
   },
   "outputs": [],
   "source": [
    "# # ATTEMPT 2: at groupby aggregations -- MOVED TO MODULE\n",
    "# aggregations = {\n",
    "#     'Time': 'min',\n",
    "#     'Id': \"count\"\n",
    "# }\n",
    "\n",
    "# # as_index = False to ensure that we have the 'ProductId' column to join on later\n",
    "# productGrouped = amazon.groupby(['ProductId'], as_index= False).agg(aggregations)"
   ]
  },
  {
   "cell_type": "code",
   "execution_count": 9,
   "metadata": {
    "collapsed": true,
    "deletable": true,
    "editable": true
   },
   "outputs": [],
   "source": [
    "# # rename columns\n",
    "# productGrouped = productGrouped.rename(columns={\"Time\": \"minTimePerProduct\",\n",
    "#                                                 'Id': 'numReviewsPerProduct'})"
   ]
  },
  {
   "cell_type": "code",
   "execution_count": 10,
   "metadata": {
    "collapsed": false,
    "deletable": true,
    "editable": true
   },
   "outputs": [],
   "source": [
    "# # join aggregates back to original data\n",
    "\n",
    "# # check to make sure didn't lose any data in join\n",
    "# pd.merge(amazon, productGrouped, how = 'left', on = ['ProductId']).shape\n",
    "\n",
    "# # add merged values to original data\n",
    "# amazon = pd.merge(amazon, productGrouped, how = 'left', on = ['ProductId'])"
   ]
  },
  {
   "cell_type": "code",
   "execution_count": 93,
   "metadata": {
    "collapsed": true,
    "deletable": true,
    "editable": true
   },
   "outputs": [
    {
     "data": {
      "text/html": [
       "<div>\n",
       "<table border=\"1\" class=\"dataframe\">\n",
       "  <thead>\n",
       "    <tr style=\"text-align: right;\">\n",
       "      <th></th>\n",
       "      <th>ProductId</th>\n",
       "      <th>Time</th>\n",
       "    </tr>\n",
       "  </thead>\n",
       "  <tbody>\n",
       "    <tr>\n",
       "      <th>173465</th>\n",
       "      <td>B001STX13U</td>\n",
       "      <td>1281139200</td>\n",
       "    </tr>\n",
       "    <tr>\n",
       "      <th>0</th>\n",
       "      <td>B001STX13U</td>\n",
       "      <td>1282348800</td>\n",
       "    </tr>\n",
       "    <tr>\n",
       "      <th>311307</th>\n",
       "      <td>B001STX13U</td>\n",
       "      <td>1285372800</td>\n",
       "    </tr>\n",
       "    <tr>\n",
       "      <th>316493</th>\n",
       "      <td>B001STX13U</td>\n",
       "      <td>1306972800</td>\n",
       "    </tr>\n",
       "    <tr>\n",
       "      <th>347088</th>\n",
       "      <td>B001STX13U</td>\n",
       "      <td>1313712000</td>\n",
       "    </tr>\n",
       "    <tr>\n",
       "      <th>125018</th>\n",
       "      <td>B001STX13U</td>\n",
       "      <td>1320364800</td>\n",
       "    </tr>\n",
       "    <tr>\n",
       "      <th>45067</th>\n",
       "      <td>B001STX13U</td>\n",
       "      <td>1320364800</td>\n",
       "    </tr>\n",
       "    <tr>\n",
       "      <th>182736</th>\n",
       "      <td>B001STX13U</td>\n",
       "      <td>1322265600</td>\n",
       "    </tr>\n",
       "    <tr>\n",
       "      <th>43133</th>\n",
       "      <td>B001STX13U</td>\n",
       "      <td>1323993600</td>\n",
       "    </tr>\n",
       "    <tr>\n",
       "      <th>239698</th>\n",
       "      <td>B001STX13U</td>\n",
       "      <td>1324425600</td>\n",
       "    </tr>\n",
       "    <tr>\n",
       "      <th>189628</th>\n",
       "      <td>B001STX13U</td>\n",
       "      <td>1327017600</td>\n",
       "    </tr>\n",
       "    <tr>\n",
       "      <th>207186</th>\n",
       "      <td>B001STX13U</td>\n",
       "      <td>1328140800</td>\n",
       "    </tr>\n",
       "    <tr>\n",
       "      <th>139691</th>\n",
       "      <td>B001STX13U</td>\n",
       "      <td>1329436800</td>\n",
       "    </tr>\n",
       "    <tr>\n",
       "      <th>204128</th>\n",
       "      <td>B001STX13U</td>\n",
       "      <td>1330560000</td>\n",
       "    </tr>\n",
       "    <tr>\n",
       "      <th>40346</th>\n",
       "      <td>B001STX13U</td>\n",
       "      <td>1333152000</td>\n",
       "    </tr>\n",
       "    <tr>\n",
       "      <th>211821</th>\n",
       "      <td>B001STX13U</td>\n",
       "      <td>1334534400</td>\n",
       "    </tr>\n",
       "    <tr>\n",
       "      <th>307088</th>\n",
       "      <td>B001STX13U</td>\n",
       "      <td>1335484800</td>\n",
       "    </tr>\n",
       "    <tr>\n",
       "      <th>89232</th>\n",
       "      <td>B001STX13U</td>\n",
       "      <td>1335571200</td>\n",
       "    </tr>\n",
       "    <tr>\n",
       "      <th>275789</th>\n",
       "      <td>B001STX13U</td>\n",
       "      <td>1335830400</td>\n",
       "    </tr>\n",
       "    <tr>\n",
       "      <th>220805</th>\n",
       "      <td>B001STX13U</td>\n",
       "      <td>1342310400</td>\n",
       "    </tr>\n",
       "    <tr>\n",
       "      <th>264803</th>\n",
       "      <td>B001STX13U</td>\n",
       "      <td>1347062400</td>\n",
       "    </tr>\n",
       "    <tr>\n",
       "      <th>198342</th>\n",
       "      <td>B001STX13U</td>\n",
       "      <td>1347321600</td>\n",
       "    </tr>\n",
       "    <tr>\n",
       "      <th>87693</th>\n",
       "      <td>B001STX13U</td>\n",
       "      <td>1349395200</td>\n",
       "    </tr>\n",
       "    <tr>\n",
       "      <th>177709</th>\n",
       "      <td>B001STX13U</td>\n",
       "      <td>1350950400</td>\n",
       "    </tr>\n",
       "  </tbody>\n",
       "</table>\n",
       "</div>"
      ],
      "text/plain": [
       "         ProductId        Time\n",
       "173465  B001STX13U  1281139200\n",
       "0       B001STX13U  1282348800\n",
       "311307  B001STX13U  1285372800\n",
       "316493  B001STX13U  1306972800\n",
       "347088  B001STX13U  1313712000\n",
       "125018  B001STX13U  1320364800\n",
       "45067   B001STX13U  1320364800\n",
       "182736  B001STX13U  1322265600\n",
       "43133   B001STX13U  1323993600\n",
       "239698  B001STX13U  1324425600\n",
       "189628  B001STX13U  1327017600\n",
       "207186  B001STX13U  1328140800\n",
       "139691  B001STX13U  1329436800\n",
       "204128  B001STX13U  1330560000\n",
       "40346   B001STX13U  1333152000\n",
       "211821  B001STX13U  1334534400\n",
       "307088  B001STX13U  1335484800\n",
       "89232   B001STX13U  1335571200\n",
       "275789  B001STX13U  1335830400\n",
       "220805  B001STX13U  1342310400\n",
       "264803  B001STX13U  1347062400\n",
       "198342  B001STX13U  1347321600\n",
       "87693   B001STX13U  1349395200\n",
       "177709  B001STX13U  1350950400"
      ]
     },
     "execution_count": 93,
     "metadata": {},
     "output_type": "execute_result"
    }
   ],
   "source": [
    "# # check specitic product to make sure the date makes sense\n",
    "# amazon[amazon['ProductId'] == 'B001STX13U'][['ProductId','Time']].sort_values('Time')"
   ]
  },
  {
   "cell_type": "markdown",
   "metadata": {
    "deletable": true,
    "editable": true
   },
   "source": [
    "### Feature extraction on natural language data"
   ]
  },
  {
   "cell_type": "code",
   "execution_count": 4,
   "metadata": {
    "collapsed": true,
    "deletable": true,
    "editable": true
   },
   "outputs": [],
   "source": [
    "# # http://scikit-learn.org/stable/modules/generated/sklearn.feature_extraction.text.CountVectorizer.html\n",
    "# from sklearn.feature_extraction.text import CountVectorizer\n",
    "# vectorizer = CountVectorizer()\n",
    "# corpus = amazon.Text.as_matrix()\n",
    "# X_bag_of_words = vectorizer.fit_transform(corpus)\n",
    "# print(X_bag_of_words.toarray())"
   ]
  },
  {
   "cell_type": "code",
   "execution_count": 7,
   "metadata": {
    "collapsed": false,
    "deletable": true,
    "editable": true
   },
   "outputs": [
    {
     "name": "stderr",
     "output_type": "stream",
     "text": [
      "/Library/Frameworks/Python.framework/Versions/3.5/lib/python3.5/site-packages/sklearn/feature_extraction/hashing.py:94: DeprecationWarning: the option non_negative=True has been deprecated in 0.19 and will be removed in version 0.21.\n",
      "  \" in version 0.21.\", DeprecationWarning)\n",
      "/Library/Frameworks/Python.framework/Versions/3.5/lib/python3.5/site-packages/sklearn/feature_extraction/hashing.py:94: DeprecationWarning: the option non_negative=True has been deprecated in 0.19 and will be removed in version 0.21.\n",
      "  \" in version 0.21.\", DeprecationWarning)\n"
     ]
    },
    {
     "name": "stdout",
     "output_type": "stream",
     "text": [
      "(364000, 131072)\n"
     ]
    }
   ],
   "source": [
    "# vectorize Bag of Words from review text; as sparse matrix\n",
    "from sklearn.feature_extraction.text import HashingVectorizer\n",
    "hv = HashingVectorizer(n_features=2 ** 17, non_negative=True)\n",
    "X_hv = hv.fit_transform(amazon.Text)\n",
    "print(X_hv.shape)"
   ]
  },
  {
   "cell_type": "code",
   "execution_count": 8,
   "metadata": {
    "collapsed": false,
    "deletable": true,
    "editable": true
   },
   "outputs": [
    {
     "data": {
      "text/plain": [
       "['hv.pkl']"
      ]
     },
     "execution_count": 8,
     "metadata": {},
     "output_type": "execute_result"
    }
   ],
   "source": [
    "# We want to be able to use this model fit on other data (the test set)\n",
    "# So let's save a copy of this instance of HashingVectorizer to be able to transform other data with this fit\n",
    "# http://scikit-learn.org/stable/modules/model_persistence.html\n",
    "joblib.dump(hv, 'hv.pkl') # pickle"
   ]
  },
  {
   "cell_type": "code",
   "execution_count": 9,
   "metadata": {
    "collapsed": false,
    "deletable": true,
    "editable": true
   },
   "outputs": [
    {
     "data": {
      "text/plain": [
       "['transformer.pkl']"
      ]
     },
     "execution_count": 9,
     "metadata": {},
     "output_type": "execute_result"
    }
   ],
   "source": [
    "# http://scikit-learn.org/stable/modules/generated/sklearn.feature_extraction.text.TfidfTransformer.html\n",
    "from sklearn.feature_extraction.text import TfidfTransformer\n",
    "transformer = TfidfTransformer()\n",
    "X_tfidf = transformer.fit_transform(X_hv)\n",
    "\n",
    "joblib.dump(transformer, 'transformer.pkl') # pickle"
   ]
  },
  {
   "cell_type": "code",
   "execution_count": 10,
   "metadata": {
    "collapsed": false,
    "deletable": true,
    "editable": true
   },
   "outputs": [
    {
     "name": "stdout",
     "output_type": "stream",
     "text": [
      "<class 'scipy.sparse.csr.csr_matrix'>\n"
     ]
    }
   ],
   "source": [
    "print(type(X_tfidf))"
   ]
  },
  {
   "cell_type": "markdown",
   "metadata": {
    "collapsed": true,
    "deletable": true,
    "editable": true
   },
   "source": [
    "### Create additional quantitative features"
   ]
  },
  {
   "cell_type": "code",
   "execution_count": 11,
   "metadata": {
    "collapsed": false,
    "deletable": true,
    "editable": true
   },
   "outputs": [
    {
     "name": "stdout",
     "output_type": "stream",
     "text": [
      "   Score  reviewLen\n",
      "0      5        333\n",
      "1      1        114\n",
      "2      5        145\n",
      "3      5        247\n",
      "4      5        266\n",
      "5      1        346\n",
      "6      5       1256\n",
      "7      5        247\n",
      "8      5        131\n",
      "9      5        143\n",
      "<class 'pandas.core.frame.DataFrame'>\n"
     ]
    }
   ],
   "source": [
    "# features from Amazon.csv to add to feature set\n",
    "amazon['reviewLen'] = amazon['Text'].str.len()\n",
    "\n",
    "X_quant_features = amazon[[\"Score\", \"reviewLen\"]]\n",
    "print(X_quant_features.head(10))\n",
    "print(type(X_quant_features))"
   ]
  },
  {
   "cell_type": "markdown",
   "metadata": {
    "deletable": true,
    "editable": true
   },
   "source": [
    "### Combine all quantitative features into a single sparse matrix"
   ]
  },
  {
   "cell_type": "code",
   "execution_count": 13,
   "metadata": {
    "collapsed": false,
    "deletable": true,
    "editable": true
   },
   "outputs": [
    {
     "name": "stdout",
     "output_type": "stream",
     "text": [
      "(364000, 131074)\n"
     ]
    }
   ],
   "source": [
    "from scipy.sparse import csr_matrix, hstack\n",
    "# converting quant features to sparse matrix\n",
    "X_quant_features_csr = csr_matrix(X_quant_features)\n",
    "# stacking them together to concatinate them\n",
    "X_combined = hstack([X_tfidf, X_quant_features_csr])\n",
    "X_matrix = csr_matrix(X_combined) # convert to sparse matrix\n",
    "print(X_matrix.shape) # added two columns to previous shape"
   ]
  },
  {
   "cell_type": "markdown",
   "metadata": {
    "deletable": true,
    "editable": true
   },
   "source": [
    "### Create `X`, scaled matrix of features"
   ]
  },
  {
   "cell_type": "code",
   "execution_count": 15,
   "metadata": {
    "collapsed": false,
    "deletable": true,
    "editable": true
   },
   "outputs": [
    {
     "name": "stdout",
     "output_type": "stream",
     "text": [
      "(364000, 131074)\n"
     ]
    },
    {
     "data": {
      "text/plain": [
       "['sc.pkl']"
      ]
     },
     "execution_count": 15,
     "metadata": {},
     "output_type": "execute_result"
    }
   ],
   "source": [
    "# feature scaling\n",
    "from sklearn.preprocessing import StandardScaler\n",
    "sc = StandardScaler(with_mean=False)\n",
<<<<<<< HEAD
<<<<<<< HEAD
    "# X = sc.fit_transform(X_matrix) # get all features on the same scale\n",
    "# print(X.shape)\n",
=======
    "X = sc.fit_transform(X_matrix) # get all features on the same scale\n",
    "print(X.shape)\n",
>>>>>>> set up featurePrepModule and basic productIdaggregations
=======
    "# X = sc.fit_transform(X_matrix) # get all features on the same scale\n",
    "# print(X.shape)\n",
>>>>>>> 5491fa89e95f3c006c1384dd6482d530b30342ed
    "\n",
    "joblib.dump(sc, 'sc.pkl') # pickle"
   ]
  },
  {
   "cell_type": "markdown",
   "metadata": {
    "deletable": true,
    "editable": true
   },
   "source": [
    "### create `y`, vector of Labels"
   ]
  },
  {
   "cell_type": "code",
<<<<<<< HEAD
<<<<<<< HEAD
   "execution_count": 10,
=======
   "execution_count": 16,
>>>>>>> set up featurePrepModule and basic productIdaggregations
=======
   "execution_count": 10,
>>>>>>> 5491fa89e95f3c006c1384dd6482d530b30342ed
   "metadata": {
    "collapsed": false,
    "deletable": true,
    "editable": true
   },
   "outputs": [
    {
     "name": "stdout",
     "output_type": "stream",
     "text": [
      "<class 'numpy.ndarray'>\n"
     ]
    }
   ],
   "source": [
    "y = amazon['helpful'].values\n",
    "print(type(y))"
   ]
  },
  {
   "cell_type": "markdown",
   "metadata": {
    "deletable": true,
    "editable": true
   },
   "source": [
    "### fit models"
   ]
  },
  {
   "cell_type": "code",
<<<<<<< HEAD
<<<<<<< HEAD
   "execution_count": 11,
=======
   "execution_count": 17,
>>>>>>> set up featurePrepModule and basic productIdaggregations
=======
   "execution_count": 11,
>>>>>>> 5491fa89e95f3c006c1384dd6482d530b30342ed
   "metadata": {
    "collapsed": true,
    "deletable": true,
    "editable": true
   },
   "outputs": [],
   "source": [
    "from my_measures import BinaryClassificationPerformance"
   ]
  },
  {
   "cell_type": "code",
<<<<<<< HEAD
<<<<<<< HEAD
   "execution_count": 12,
=======
   "execution_count": 18,
>>>>>>> set up featurePrepModule and basic productIdaggregations
=======
   "execution_count": 12,
>>>>>>> 5491fa89e95f3c006c1384dd6482d530b30342ed
   "metadata": {
    "collapsed": false,
    "deletable": true,
    "editable": true
   },
   "outputs": [
    {
     "name": "stderr",
     "output_type": "stream",
     "text": [
      "/Library/Frameworks/Python.framework/Versions/3.5/lib/python3.5/site-packages/sklearn/linear_model/stochastic_gradient.py:128: FutureWarning: max_iter and tol parameters have been added in <class 'sklearn.linear_model.stochastic_gradient.SGDClassifier'> in 0.19. If both are left unset, they default to max_iter=5 and tol=None. If tol is not None, max_iter defaults to max_iter=1000. From 0.21, default max_iter will be 1000, and default tol will be 1e-3.\n",
      "  \"and default tol will be 1e-3.\" % type(self), FutureWarning)\n"
     ]
    },
    {
     "name": "stdout",
     "output_type": "stream",
     "text": [
<<<<<<< HEAD
<<<<<<< HEAD
      "{'TP': 13167, 'desc': 'svm', 'FP': 9615, 'TN': 327858, 'Recall': 0.49636219700682321, 'Precision': 0.57795628127469056, 'Neg': 337473, 'Pos': 26527, 'FN': 13360, 'Accuracy': 0.93688186813186813}\n"
=======
      "{'FP': 14902, 'Recall': 0.47095412221510158, 'TP': 12493, 'desc': 'svm', 'Accuracy': 0.92050549450549446, 'Pos': 26527, 'FN': 14034, 'TN': 322571, 'Precision': 0.45603212265011861, 'Neg': 337473}\n"
>>>>>>> set up featurePrepModule and basic productIdaggregations
=======
      "{'TP': 13167, 'desc': 'svm', 'FP': 9615, 'TN': 327858, 'Recall': 0.49636219700682321, 'Precision': 0.57795628127469056, 'Neg': 337473, 'Pos': 26527, 'FN': 13360, 'Accuracy': 0.93688186813186813}\n"
>>>>>>> 5491fa89e95f3c006c1384dd6482d530b30342ed
     ]
    }
   ],
   "source": [
    "# MODEL: SVM, linear\n",
    "from sklearn import linear_model\n",
    "svm = linear_model.SGDClassifier()\n",
    "svm.fit(X, y)\n",
    "joblib.dump(svm, 'svm.pkl') # pickle -- take a snapshop of fit\n",
    "\n",
    "svm_performance = BinaryClassificationPerformance(svm.predict(X), y, 'svm')\n",
    "svm_performance.compute_measures()\n",
    "print(svm_performance.performance_measures)"
   ]
  },
  {
<<<<<<< HEAD
<<<<<<< HEAD
=======
>>>>>>> 5491fa89e95f3c006c1384dd6482d530b30342ed
   "cell_type": "raw",
   "metadata": {},
   "source": [
    "Previous Results: {'FN': 14017, 'Precision': 0.53834237025561582, 'Neg': 337473, 'Pos': 26527, 'Recall': 0.47159497870094619, 'Accuracy': 0.93201923076923077, 'TN': 326745, 'desc': 'svm', 'TP': 12510, 'FP': 10728}"
   ]
  },
  {
   "cell_type": "code",
   "execution_count": 13,
   "metadata": {
    "collapsed": false,
    "deletable": true,
    "editable": true,
    "scrolled": true
<<<<<<< HEAD
=======
   "cell_type": "code",
   "execution_count": 19,
   "metadata": {
    "collapsed": false,
    "deletable": true,
    "editable": true
>>>>>>> set up featurePrepModule and basic productIdaggregations
=======
>>>>>>> 5491fa89e95f3c006c1384dd6482d530b30342ed
   },
   "outputs": [
    {
     "name": "stderr",
     "output_type": "stream",
     "text": [
      "/Library/Frameworks/Python.framework/Versions/3.5/lib/python3.5/site-packages/sklearn/linear_model/stochastic_gradient.py:117: DeprecationWarning: n_iter parameter is deprecated in 0.19 and will be removed in 0.21. Use max_iter and tol instead.\n",
      "  DeprecationWarning)\n"
     ]
    },
    {
     "name": "stdout",
     "output_type": "stream",
     "text": [
<<<<<<< HEAD
<<<<<<< HEAD
      "{'TP': 15980, 'desc': 'lgs', 'FP': 16014, 'TN': 321459, 'Recall': 0.60240509669393449, 'Precision': 0.49946865037194477, 'Neg': 337473, 'Pos': 26527, 'FN': 10547, 'Accuracy': 0.92703021978021982}\n"
=======
      "{'FP': 13126, 'Recall': 0.50970709088852872, 'TP': 13521, 'desc': 'lgs', 'Accuracy': 0.92820879120879118, 'Pos': 26527, 'FN': 13006, 'TN': 324347, 'Precision': 0.50741171614065372, 'Neg': 337473}\n"
>>>>>>> set up featurePrepModule and basic productIdaggregations
=======
      "{'TP': 15980, 'desc': 'lgs', 'FP': 16014, 'TN': 321459, 'Recall': 0.60240509669393449, 'Precision': 0.49946865037194477, 'Neg': 337473, 'Pos': 26527, 'FN': 10547, 'Accuracy': 0.92703021978021982}\n"
>>>>>>> 5491fa89e95f3c006c1384dd6482d530b30342ed
     ]
    }
   ],
   "source": [
    "# MODEL: logistic regression\n",
    "from sklearn import linear_model\n",
    "lgs = linear_model.SGDClassifier(loss='log', n_iter=50, alpha=0.00001)\n",
    "lgs.fit(X, y)\n",
    "joblib.dump(lgs, 'lgs.pkl') # pickle\n",
    "\n",
    "lgs_performance = BinaryClassificationPerformance(lgs.predict(X), y, 'lgs')\n",
    "lgs_performance.compute_measures()\n",
    "print(lgs_performance.performance_measures)"
   ]
  },
  {
<<<<<<< HEAD
<<<<<<< HEAD
=======
>>>>>>> 5491fa89e95f3c006c1384dd6482d530b30342ed
   "cell_type": "markdown",
   "metadata": {},
   "source": [
    "previous results: {'FN': 13966, 'Precision': 0.61350981732929566, 'Neg': 337473, 'Pos': 26527, 'Recall': 0.47351754815848002, 'Accuracy': 0.9398928571428572, 'TN': 329560, 'desc': 'lgs', 'TP': 12561, 'FP': 7913}"
   ]
  },
  {
   "cell_type": "code",
   "execution_count": 14,
<<<<<<< HEAD
=======
   "cell_type": "code",
   "execution_count": 20,
>>>>>>> set up featurePrepModule and basic productIdaggregations
=======
>>>>>>> 5491fa89e95f3c006c1384dd6482d530b30342ed
   "metadata": {
    "collapsed": false,
    "deletable": true,
    "editable": true
   },
   "outputs": [
    {
     "name": "stdout",
     "output_type": "stream",
     "text": [
<<<<<<< HEAD
<<<<<<< HEAD
      "{'TP': 17006, 'desc': 'nbs', 'FP': 40240, 'TN': 297233, 'Recall': 0.641082670486674, 'Precision': 0.29706879083254722, 'Neg': 337473, 'Pos': 26527, 'FN': 9521, 'Accuracy': 0.86329395604395609}\n"
=======
      "{'FP': 41650, 'Recall': 0.64372149131073997, 'TP': 17076, 'desc': 'nbs', 'Accuracy': 0.85961263736263738, 'Pos': 26527, 'FN': 9451, 'TN': 295823, 'Precision': 0.29077410346354254, 'Neg': 337473}\n"
>>>>>>> set up featurePrepModule and basic productIdaggregations
=======
      "{'TP': 17006, 'desc': 'nbs', 'FP': 40240, 'TN': 297233, 'Recall': 0.641082670486674, 'Precision': 0.29706879083254722, 'Neg': 337473, 'Pos': 26527, 'FN': 9521, 'Accuracy': 0.86329395604395609}\n"
>>>>>>> 5491fa89e95f3c006c1384dd6482d530b30342ed
     ]
    }
   ],
   "source": [
    "# MODEL: Naive Bayes\n",
    "from sklearn.naive_bayes import MultinomialNB\n",
    "nbs = MultinomialNB()\n",
    "nbs.fit(X, y)\n",
    "joblib.dump(nbs, 'nbs.pkl') # pickle\n",
    "\n",
    "nbs_performance = BinaryClassificationPerformance(nbs.predict(X), y, 'nbs')\n",
    "nbs_performance.compute_measures()\n",
    "print(nbs_performance.performance_measures)"
   ]
  },
  {
<<<<<<< HEAD
<<<<<<< HEAD
=======
>>>>>>> 5491fa89e95f3c006c1384dd6482d530b30342ed
   "cell_type": "markdown",
   "metadata": {},
   "source": [
    "previous results: {'FN': 9525, 'Precision': 0.2958413085087872, 'Neg': 337473, 'Pos': 26527, 'Recall': 0.64093188072529872, 'Accuracy': 0.8626565934065934, 'TN': 297005, 'desc': 'nbs', 'TP': 17002, 'FP': 40468}\n"
   ]
  },
  {
   "cell_type": "code",
   "execution_count": 15,
   "metadata": {
    "collapsed": false,
    "deletable": true,
    "editable": true,
    "scrolled": true
<<<<<<< HEAD
=======
   "cell_type": "code",
   "execution_count": 21,
   "metadata": {
    "collapsed": false,
    "deletable": true,
    "editable": true
>>>>>>> set up featurePrepModule and basic productIdaggregations
=======
>>>>>>> 5491fa89e95f3c006c1384dd6482d530b30342ed
   },
   "outputs": [
    {
     "name": "stdout",
     "output_type": "stream",
     "text": [
<<<<<<< HEAD
<<<<<<< HEAD
      "{'TP': 7873, 'desc': 'rdg', 'FP': 512, 'TN': 336961, 'Recall': 0.29679194782674256, 'Precision': 0.93893858079904591, 'Neg': 337473, 'Pos': 26527, 'FN': 18654, 'Accuracy': 0.94734615384615384}\n"
=======
      "{'FP': 638, 'Recall': 0.299355373770121, 'TP': 7941, 'desc': 'rdg', 'Accuracy': 0.94718681318681319, 'Pos': 26527, 'FN': 18586, 'TN': 336835, 'Precision': 0.92563235808369271, 'Neg': 337473}\n"
>>>>>>> set up featurePrepModule and basic productIdaggregations
=======
      "{'TP': 7873, 'desc': 'rdg', 'FP': 512, 'TN': 336961, 'Recall': 0.29679194782674256, 'Precision': 0.93893858079904591, 'Neg': 337473, 'Pos': 26527, 'FN': 18654, 'Accuracy': 0.94734615384615384}\n"
>>>>>>> 5491fa89e95f3c006c1384dd6482d530b30342ed
     ]
    }
   ],
   "source": [
    "# MODEL: Ridge Regression Classifier\n",
    "from sklearn import linear_model\n",
    "rdg = linear_model.RidgeClassifier()\n",
    "rdg.fit(X, y)\n",
    "joblib.dump(rdg, 'rdg.pkl') # pickle\n",
    "\n",
    "rdg_performance = BinaryClassificationPerformance(rdg.predict(X), y, 'rdg')\n",
    "rdg_performance.compute_measures()\n",
    "print(rdg_performance.performance_measures) \n",
    "# lowest false positives"
   ]
  },
  {
<<<<<<< HEAD
<<<<<<< HEAD
=======
>>>>>>> 5491fa89e95f3c006c1384dd6482d530b30342ed
   "cell_type": "markdown",
   "metadata": {},
   "source": [
    "previous results: {'FN': 18753, 'Precision': 0.93258157389635321, 'Neg': 337473, 'Pos': 26527, 'Recall': 0.29305990123270631, 'Accuracy': 0.94693681318681322, 'TN': 336911, 'desc': 'rdg', 'TP': 7774, 'FP': 562}"
   ]
  },
  {
   "cell_type": "code",
   "execution_count": 16,
<<<<<<< HEAD
=======
   "cell_type": "code",
   "execution_count": 22,
>>>>>>> set up featurePrepModule and basic productIdaggregations
=======
>>>>>>> 5491fa89e95f3c006c1384dd6482d530b30342ed
   "metadata": {
    "collapsed": false,
    "deletable": true,
    "editable": true
   },
   "outputs": [
    {
     "name": "stderr",
     "output_type": "stream",
     "text": [
      "/Library/Frameworks/Python.framework/Versions/3.5/lib/python3.5/site-packages/sklearn/linear_model/stochastic_gradient.py:128: FutureWarning: max_iter and tol parameters have been added in <class 'sklearn.linear_model.stochastic_gradient.SGDClassifier'> in 0.19. If both are left unset, they default to max_iter=5 and tol=None. If tol is not None, max_iter defaults to max_iter=1000. From 0.21, default max_iter will be 1000, and default tol will be 1e-3.\n",
      "  \"and default tol will be 1e-3.\" % type(self), FutureWarning)\n"
     ]
    },
    {
     "name": "stdout",
     "output_type": "stream",
     "text": [
<<<<<<< HEAD
<<<<<<< HEAD
      "{'TP': 13255, 'desc': 'prc', 'FP': 9337, 'TN': 328136, 'Recall': 0.49967957175707767, 'Precision': 0.58671211048158645, 'Neg': 337473, 'Pos': 26527, 'FN': 13272, 'Accuracy': 0.93788736263736261}\n"
=======
      "{'FP': 12306, 'Recall': 0.44324650356240813, 'TP': 11758, 'desc': 'prc', 'Accuracy': 0.92561813186813191, 'Pos': 26527, 'FN': 14769, 'TN': 325167, 'Precision': 0.48861369680851063, 'Neg': 337473}\n"
>>>>>>> set up featurePrepModule and basic productIdaggregations
=======
      "{'TP': 13255, 'desc': 'prc', 'FP': 9337, 'TN': 328136, 'Recall': 0.49967957175707767, 'Precision': 0.58671211048158645, 'Neg': 337473, 'Pos': 26527, 'FN': 13272, 'Accuracy': 0.93788736263736261}\n"
>>>>>>> 5491fa89e95f3c006c1384dd6482d530b30342ed
     ]
    }
   ],
   "source": [
    "# MODEL: Perceptron\n",
    "from sklearn import linear_model\n",
    "prc = linear_model.SGDClassifier(loss='perceptron')\n",
    "prc.fit(X, y)\n",
    "joblib.dump(prc, 'prc.pkl') # pickle\n",
    "\n",
    "prc_performance = BinaryClassificationPerformance(prc.predict(X), y, 'prc')\n",
    "prc_performance.compute_measures()\n",
    "print(prc_performance.performance_measures)"
   ]
  },
  {
   "cell_type": "markdown",
   "metadata": {
    "deletable": true,
    "editable": true
   },
   "source": [
    "previous results: {'FN': 13888, 'Precision': 0.52847466131460108, 'Neg': 337473, 'Pos': 26527, 'Recall': 0.47645794850529649, 'Accuracy': 0.93086538461538459, 'TN': 326196, 'desc': 'prc', 'TP': 12639, 'FP': 11277}\n"
   ]
  },
  {
   "cell_type": "markdown",
   "metadata": {
    "deletable": true,
    "editable": true
   },
   "source": [
    "previous results: {'FN': 13888, 'Precision': 0.52847466131460108, 'Neg': 337473, 'Pos': 26527, 'Recall': 0.47645794850529649, 'Accuracy': 0.93086538461538459, 'TN': 326196, 'desc': 'prc', 'TP': 12639, 'FP': 11277}\n"
   ]
  },
  {
   "cell_type": "markdown",
   "metadata": {
    "deletable": true,
    "editable": true
   },
   "source": [
    "### ROC plot to compare performance of various models and fits"
   ]
  },
  {
   "cell_type": "code",
   "execution_count": 18,
   "metadata": {
    "collapsed": false,
    "deletable": true,
    "editable": true
   },
   "outputs": [
    {
     "data": {
      "image/png": "iVBORw0KGgoAAAANSUhEUgAAAYoAAAEWCAYAAAB42tAoAAAABHNCSVQICAgIfAhkiAAAAAlwSFlz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\nrH3BfAAAAABJRU5ErkJggg==\n",
      "text/plain": [
       "<matplotlib.figure.Figure at 0x116a49208>"
      ]
     },
     "metadata": {},
     "output_type": "display_data"
    }
   ],
   "source": [
    "fits = [svm_performance, lgs_performance, nbs_performance, rdg_performance, prc_performance]\n",
    "# fits = [svm_performance, lgs_performance, rdg_performance, prc_performance]\n",
    "\n",
    "for fit in fits:\n",
    "    plt.plot(fit.performance_measures['FP'] / fit.performance_measures['Neg'], \n",
    "             fit.performance_measures['TP'] / fit.performance_measures['Pos'], 'ro')\n",
    "    plt.text(fit.performance_measures['FP'] / fit.performance_measures['Neg'], \n",
    "             fit.performance_measures['TP'] / fit.performance_measures['Pos'], fit.desc)\n",
    "plt.axis([0, 1, 0, 1])\n",
    "plt.title('ROC plot: training set')\n",
    "plt.xlabel('False positive rate')\n",
    "plt.ylabel('True positive rate')\n",
    "plt.show()"
   ]
  },
  {
   "cell_type": "markdown",
   "metadata": {
    "collapsed": true,
    "deletable": true,
    "editable": true
   },
   "source": [
    "going with naive bayes which has the highest true positive rate/recall/sensitivity (ie TP/Pos) even though it has a higher false positive rate (FP/Neg). I make this conscious choice because I already feel that our helpful tag is undertagging helpful comments and therefore am hoping that the false positives will turn out to be true once the label is corrected."
   ]
  }
 ],
 "metadata": {
  "kernelspec": {
   "display_name": "Python 3",
   "language": "python",
   "name": "python3"
  },
  "language_info": {
   "codemirror_mode": {
    "name": "ipython",
    "version": 3
   },
   "file_extension": ".py",
   "mimetype": "text/x-python",
   "name": "python",
   "nbconvert_exporter": "python",
   "pygments_lexer": "ipython3",
   "version": "3.5.3"
  }
 },
 "nbformat": 4,
 "nbformat_minor": 1
}
